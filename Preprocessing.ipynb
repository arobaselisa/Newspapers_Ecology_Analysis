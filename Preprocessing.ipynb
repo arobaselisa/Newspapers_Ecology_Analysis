{
 "cells": [
  {
   "cell_type": "code",
   "execution_count": 5,
   "metadata": {},
   "outputs": [],
   "source": [
    "import numpy as np\n",
    "import matplotlib.pyplot as plt\n",
    "import pandas as pd\n",
    "from os import listdir\n",
    "from scipy import spatial\n",
    "import itertools\n",
    "\n",
    "from IPython.display import display\n",
    "\n",
    "from sklearn.decomposition import PCA\n",
    "from sklearn.feature_extraction.text import TfidfVectorizer\n",
    "\n",
    "\n",
    "from collections import Counter\n",
    "\n",
    "import dateparser\n",
    "from time import time\n",
    "from tqdm import tqdm\n",
    "\n",
    "import nltk\n",
    "from nltk.tokenize import word_tokenize\n",
    "from nltk.corpus import stopwords\n",
    "\n",
    "import string\n",
    "\n",
    "from spellchecker import SpellChecker\n",
    "\n",
    "from gensim.test.utils import common_texts\n",
    "from gensim.models import Word2Vec\n",
    "from gensim import models, corpora\n",
    "from gensim.models.coherencemodel import CoherenceModel\n",
    "\n",
    "@Language.factory('french_lemmatizer')"
   ]
  },
  {
   "cell_type": "markdown",
   "metadata": {},
   "source": [
    "# Loading"
   ]
  },
  {
   "cell_type": "code",
   "execution_count": 7,
   "metadata": {},
   "outputs": [
    {
     "data": {
      "text/html": [
       "<div>\n",
       "<style scoped>\n",
       "    .dataframe tbody tr th:only-of-type {\n",
       "        vertical-align: middle;\n",
       "    }\n",
       "\n",
       "    .dataframe tbody tr th {\n",
       "        vertical-align: top;\n",
       "    }\n",
       "\n",
       "    .dataframe thead th {\n",
       "        text-align: right;\n",
       "    }\n",
       "</style>\n",
       "<table border=\"1\" class=\"dataframe\">\n",
       "  <thead>\n",
       "    <tr style=\"text-align: right;\">\n",
       "      <th></th>\n",
       "      <th>Unnamed: 0</th>\n",
       "      <th>Unnamed: 0.1</th>\n",
       "      <th>Article Title</th>\n",
       "      <th>Journal</th>\n",
       "      <th>Date</th>\n",
       "      <th>Url</th>\n",
       "      <th>Text</th>\n",
       "      <th>Unnamed: 0.1.1</th>\n",
       "    </tr>\n",
       "  </thead>\n",
       "  <tbody>\n",
       "    <tr>\n",
       "      <th>1201</th>\n",
       "      <td>1201</td>\n",
       "      <td>1</td>\n",
       "      <td>Moins de place mais plus cher</td>\n",
       "      <td>La Gruyère</td>\n",
       "      <td>1999-03-25</td>\n",
       "      <td>https://www.e-newspaperarchives.ch/?a=d&amp;d=LGE1...</td>\n",
       "      <td>Moins de place mais plus cher  M Système de c...</td>\n",
       "      <td>NaN</td>\n",
       "    </tr>\n",
       "    <tr>\n",
       "      <th>4160</th>\n",
       "      <td>1342</td>\n",
       "      <td>342</td>\n",
       "      <td>La Suisse redécouverte</td>\n",
       "      <td>Construire</td>\n",
       "      <td>1979-06-20</td>\n",
       "      <td>https://www.e-newspaperarchives.ch/?a=d&amp;d=MIG1...</td>\n",
       "      <td>J La Suisse redécouverte  C’est la mode depui...</td>\n",
       "      <td>2.0</td>\n",
       "    </tr>\n",
       "    <tr>\n",
       "      <th>20182</th>\n",
       "      <td>8504</td>\n",
       "      <td>504</td>\n",
       "      <td>Fax 027/ 722 52 78 tel. UZ7 / 721 73 73 ...</td>\n",
       "      <td>La Gazette</td>\n",
       "      <td>1997-12-18</td>\n",
       "      <td>https://www.e-newspaperarchives.ch/?a=d&amp;d=GDM1...</td>\n",
       "      <td>Fax 027 / 722 52 78 tel . UZ 7 / 721 73 73 g ...</td>\n",
       "      <td>4.0</td>\n",
       "    </tr>\n",
       "    <tr>\n",
       "      <th>16063</th>\n",
       "      <td>4385</td>\n",
       "      <td>385</td>\n",
       "      <td>Appel de la droite a la mesure</td>\n",
       "      <td>La Liberté</td>\n",
       "      <td>1993-03-29</td>\n",
       "      <td>https://www.e-newspaperarchives.ch/?a=d&amp;d=LLE1...</td>\n",
       "      <td>Appel de la droite a la mesure  Les responsab...</td>\n",
       "      <td>5.0</td>\n",
       "    </tr>\n",
       "    <tr>\n",
       "      <th>1229</th>\n",
       "      <td>1229</td>\n",
       "      <td>9</td>\n",
       "      <td>VIENT DE PARAITRE. La bibliographie frib...</td>\n",
       "      <td>La Liberté</td>\n",
       "      <td>1997-01-11</td>\n",
       "      <td>https://www.e-newspaperarchives.ch/?a=d&amp;d=LLE1...</td>\n",
       "      <td>VIENT DE PARAITRE . La bibliographie fribourg...</td>\n",
       "      <td>NaN</td>\n",
       "    </tr>\n",
       "  </tbody>\n",
       "</table>\n",
       "</div>"
      ],
      "text/plain": [
       "       Unnamed: 0  Unnamed: 0.1                                 Article Title  \\\n",
       "1201         1201             1                Moins de place mais plus cher    \n",
       "4160         1342           342                       La Suisse redécouverte    \n",
       "20182        8504           504  Fax 027/ 722 52 78 tel. UZ7 / 721 73 73 ...    \n",
       "16063        4385           385               Appel de la droite a la mesure    \n",
       "1229         1229             9  VIENT DE PARAITRE. La bibliographie frib...    \n",
       "\n",
       "          Journal       Date  \\\n",
       "1201   La Gruyère 1999-03-25   \n",
       "4160   Construire 1979-06-20   \n",
       "20182  La Gazette 1997-12-18   \n",
       "16063  La Liberté 1993-03-29   \n",
       "1229   La Liberté 1997-01-11   \n",
       "\n",
       "                                                     Url  \\\n",
       "1201   https://www.e-newspaperarchives.ch/?a=d&d=LGE1...   \n",
       "4160   https://www.e-newspaperarchives.ch/?a=d&d=MIG1...   \n",
       "20182  https://www.e-newspaperarchives.ch/?a=d&d=GDM1...   \n",
       "16063  https://www.e-newspaperarchives.ch/?a=d&d=LLE1...   \n",
       "1229   https://www.e-newspaperarchives.ch/?a=d&d=LLE1...   \n",
       "\n",
       "                                                    Text  Unnamed: 0.1.1  \n",
       "1201    Moins de place mais plus cher  M Système de c...             NaN  \n",
       "4160    J La Suisse redécouverte  C’est la mode depui...             2.0  \n",
       "20182   Fax 027 / 722 52 78 tel . UZ 7 / 721 73 73 g ...             4.0  \n",
       "16063   Appel de la droite a la mesure  Les responsab...             5.0  \n",
       "1229    VIENT DE PARAITRE . La bibliographie fribourg...             NaN  "
      ]
     },
     "execution_count": 7,
     "metadata": {},
     "output_type": "execute_result"
    }
   ],
   "source": [
    "# load the dataset into a Pandas DataFrame and parse the date\n",
    "articles = pd.read_csv(\"./Data/all_articles.csv\", parse_dates=['Date'], date_parser=dateparser.parse)\n",
    "n_before = len(articles) # number of articles in the DF\n",
    "# print 5 radom rows\n",
    "articles.sample(5)"
   ]
  },
  {
   "cell_type": "code",
   "execution_count": 8,
   "metadata": {},
   "outputs": [
    {
     "data": {
      "text/html": [
       "<div>\n",
       "<style scoped>\n",
       "    .dataframe tbody tr th:only-of-type {\n",
       "        vertical-align: middle;\n",
       "    }\n",
       "\n",
       "    .dataframe tbody tr th {\n",
       "        vertical-align: top;\n",
       "    }\n",
       "\n",
       "    .dataframe thead th {\n",
       "        text-align: right;\n",
       "    }\n",
       "</style>\n",
       "<table border=\"1\" class=\"dataframe\">\n",
       "  <thead>\n",
       "    <tr style=\"text-align: right;\">\n",
       "      <th></th>\n",
       "      <th>Article Title</th>\n",
       "      <th>Journal</th>\n",
       "      <th>Date</th>\n",
       "      <th>Url</th>\n",
       "      <th>Text</th>\n",
       "    </tr>\n",
       "  </thead>\n",
       "  <tbody>\n",
       "    <tr>\n",
       "      <th>8492</th>\n",
       "      <td>Altiport - La valse des recours</td>\n",
       "      <td>Le Nouvelliste</td>\n",
       "      <td>1976-11-15</td>\n",
       "      <td>https://www.e-newspaperarchives.ch/?a=d&amp;d=NVE1...</td>\n",
       "      <td>Altiport - La valse des recours  GENÈVE . - L...</td>\n",
       "    </tr>\n",
       "  </tbody>\n",
       "</table>\n",
       "</div>"
      ],
      "text/plain": [
       "                         Article Title         Journal       Date  \\\n",
       "8492  Altiport - La valse des recours   Le Nouvelliste 1976-11-15   \n",
       "\n",
       "                                                    Url  \\\n",
       "8492  https://www.e-newspaperarchives.ch/?a=d&d=NVE1...   \n",
       "\n",
       "                                                   Text  \n",
       "8492   Altiport - La valse des recours  GENÈVE . - L...  "
      ]
     },
     "execution_count": 8,
     "metadata": {},
     "output_type": "execute_result"
    }
   ],
   "source": [
    "for col in articles.columns:\n",
    "    if \"Unnamed\" in col:\n",
    "        articles.drop(col, axis=1, inplace=True)\n",
    "        \n",
    "articles.sample()"
   ]
  },
  {
   "cell_type": "code",
   "execution_count": 9,
   "metadata": {},
   "outputs": [
    {
     "name": "stdout",
     "output_type": "stream",
     "text": [
      "47 rows with NaN dropped, 22631 articles remaining in the DF.\n"
     ]
    }
   ],
   "source": [
    "# drop rows (=articles) with missing informations\n",
    "articles = articles.dropna().reset_index()\n",
    "print(\"{0} rows with NaN dropped, {1} articles remaining in the DF.\".format(n_before-len(articles), len(articles)))"
   ]
  },
  {
   "cell_type": "code",
   "execution_count": 10,
   "metadata": {},
   "outputs": [
    {
     "name": "stdout",
     "output_type": "stream",
     "text": [
      "22577 rows remaining in the dataset after dropping duplicates.\n"
     ]
    }
   ],
   "source": [
    "# drop duplicate rows\n",
    "articles = articles.drop_duplicates(subset=['Text'])\n",
    "print(\"{0} rows remaining in the dataset after dropping duplicates.\".format(len(articles)))"
   ]
  },
  {
   "cell_type": "markdown",
   "metadata": {},
   "source": [
    "# NLP preprocessing"
   ]
  },
  {
   "cell_type": "code",
   "execution_count": 11,
   "metadata": {},
   "outputs": [],
   "source": [
    "STOP_FR = stopwords.words(\"french\")\n",
    "STOP_FR += [\"comme\", \"tout\", \"aussi\", \"sans\", \"si\", \"selon\"]\n",
    "STOP_FR += [\"de\", \"du\", \"des\"] # added bc of tfidf on epochs\n",
    "\n",
    "PUNCTUATION = [punc for punc in string.punctuation]\n",
    "PUNCTUATION += [\"›\", \"__\", \"’\", \"‘\", \"...\", \"„\", \"¦\"]"
   ]
  },
  {
   "cell_type": "code",
   "execution_count": 12,
   "metadata": {},
   "outputs": [],
   "source": [
    "# remove punctuation and lower \n",
    "cleaned_text = articles[\"Text\"].apply(lambda article: article.translate(str.maketrans('', '', string.punctuation)).lower())"
   ]
  },
  {
   "cell_type": "code",
   "execution_count": 13,
   "metadata": {},
   "outputs": [],
   "source": [
    "def tokenize_list_articles(list_articles):\n",
    "    \"\"\" tokenize iterable object and remove some pre-defined values \"\"\"\n",
    "    tokenized_articles = [word_tokenize(article) for article in list_articles]\n",
    "    tokenized_articles = [[token.lower() for token in article \n",
    "                           if not (token.lower() in STOP_FR+PUNCTUATION\n",
    "                           or token.isnumeric()\n",
    "                           or len(token) < 3)\n",
    "                          ]\n",
    "                         for article in tokenized_articles]\n",
    "    return tokenized_articles"
   ]
  },
  {
   "cell_type": "code",
   "execution_count": 14,
   "metadata": {},
   "outputs": [
    {
     "name": "stdout",
     "output_type": "stream",
     "text": [
      "CPU times: user 1min 14s, sys: 2.14 s, total: 1min 17s\n",
      "Wall time: 1min 37s\n"
     ]
    }
   ],
   "source": [
    "%%time \n",
    "texts_articles = list(articles[\"Text\"].values)\n",
    "tokenized_articles = tokenize_list_articles(list(cleaned_text))\n",
    "# add a column in the DF:\n",
    "articles[\"tokens\"] = tokenized_articles"
   ]
  },
  {
   "cell_type": "code",
   "execution_count": 24,
   "metadata": {
    "scrolled": true
   },
   "outputs": [
    {
     "name": "stdout",
     "output_type": "stream",
     "text": [
      "{'pluridisciplinaire', 'fribourgeois', 'ecologie', 'postgrades', 'coursconférences', 'bernois', 'nonjuristes', 'coursblocs', 'luniversité'}\n",
      "pluridisciplinaire\n",
      "fribourgeois\n",
      "écologie\n",
      "postgrades\n",
      "coursconférences\n",
      "vernis\n",
      "nonjuristes\n",
      "coursblocs\n",
      "université\n"
     ]
    }
   ],
   "source": [
    "spell = SpellChecker(language='fr')\n",
    "spell.word_frequency.load_words(['écologie', 'Fribourg', 'Vaud', 'Genève', 'Valais', 'Neuchâtel', 'Jura'])"
   ]
  },
  {
   "cell_type": "code",
   "execution_count": null,
   "metadata": {},
   "outputs": [],
   "source": [
    "# TODO RUN CELL\n",
    "articles[\"tokens_spell\"] = articles.apply(lambda row: [spell.correction(w) if spell.unknown(w) else w for w in row[\"tokens\"]] ,axis=1)"
   ]
  },
  {
   "cell_type": "code",
   "execution_count": null,
   "metadata": {},
   "outputs": [],
   "source": [
    "articles.to_csv('articles_spell_checked.csv')"
   ]
  },
  {
   "cell_type": "code",
   "execution_count": 35,
   "metadata": {
    "scrolled": true
   },
   "outputs": [
    {
     "name": "stdout",
     "output_type": "stream",
     "text": [
      "Apple NOUN None NOUN apple\n",
      "cherche NOUN cherche NOUN cherche\n",
      "a AUX None AUX avoir\n",
      "acheter VERB acheter VERB acheter\n",
      "une DET un DET un\n",
      "startup NOUN None NOUN startup\n",
      "anglaise ADJ anglais ADJ anglais\n",
      "pour ADP None ADP pour\n",
      "1 NUM None NUM 1\n",
      "milliard NOUN milliard NOUN milliard\n",
      "de ADP un ADP de\n",
      "dollard PROPN None PROPN dollard\n"
     ]
    }
   ],
   "source": [
    "import spacy\n",
    "from spacy_lefff import LefffLemmatizer\n",
    "from spacy.language import Language\n",
    "\n",
    "@Language.factory('french_lemmatizer')\n",
    "def create_french_lemmatizer(nlp, name):\n",
    "    return LefffLemmatizer()\n",
    "\n",
    "nlp = spacy.load('fr_core_news_sm')\n",
    "nlp.add_pipe('french_lemmatizer', name='lefff')\n",
    "doc = nlp(articles[0])\n",
    "for d in doc:\n",
    "    print(d.text, d.pos_, d._.lefff_lemma, d.tag_, d.lemma_)"
   ]
  },
  {
   "cell_type": "code",
   "execution_count": 41,
   "metadata": {},
   "outputs": [
    {
     "data": {
      "text/plain": [
       "['iii',\n",
       " 'boîte',\n",
       " 'lettres',\n",
       " 'ecologie',\n",
       " 'écolocratie',\n",
       " 'monsieur',\n",
       " 'rédacteur',\n",
       " 'édition',\n",
       " 'avril',\n",
       " 'lécologiste',\n",
       " 'laurent',\n",
       " 'rebeaud',\n",
       " 'affirme',\n",
       " 'faut',\n",
       " 'déplacer',\n",
       " 'monde',\n",
       " 'politique',\n",
       " 'axe',\n",
       " 'gauchedroite',\n",
       " 'nouvel',\n",
       " 'axe',\n",
       " 'technocratieécologie',\n",
       " 'opposer',\n",
       " 'technocratie',\n",
       " 'écologie',\n",
       " 'esi',\n",
       " 'démarche',\n",
       " 'stérile',\n",
       " 'repose',\n",
       " 'sut',\n",
       " 'deux',\n",
       " 'illusions',\n",
       " 'première',\n",
       " 'illusion',\n",
       " 'esi',\n",
       " 'croire',\n",
       " 'autre',\n",
       " 'peut',\n",
       " 'cou',\n",
       " 'vrir',\n",
       " 'seule',\n",
       " 'domaine',\n",
       " 'politique',\n",
       " 'aspects',\n",
       " 'titre',\n",
       " 'léconomie',\n",
       " 'développement',\n",
       " 'léducation',\n",
       " 'culture',\n",
       " 'défense',\n",
       " 'paix',\n",
       " 'léthique',\n",
       " 'etc',\n",
       " 'aspects',\n",
       " 'agit',\n",
       " 'concilier',\n",
       " 'non',\n",
       " 'opposer',\n",
       " 'deuxième',\n",
       " 'illusion',\n",
       " 'consiste',\n",
       " 'faire',\n",
       " 'croire',\n",
       " 'domaine',\n",
       " 'particuliei',\n",
       " 'protection',\n",
       " 'environnement',\n",
       " 'opposition',\n",
       " 'entre',\n",
       " 'technique',\n",
       " 'écologie',\n",
       " 'développement',\n",
       " 'technologique',\n",
       " 'bien',\n",
       " 'maîtrisé',\n",
       " 'reste',\n",
       " 'meilleur',\n",
       " 'moyer',\n",
       " 'dont',\n",
       " 'disposons',\n",
       " 'protéger',\n",
       " 'vironnement',\n",
       " 'priver',\n",
       " 'avantages',\n",
       " 'niveau',\n",
       " 'vie',\n",
       " 'élevé',\n",
       " 'exemple',\n",
       " 'matière',\n",
       " 'depollutior',\n",
       " 'atmosphérique',\n",
       " 'vision',\n",
       " 'techno',\n",
       " 'cratie',\n",
       " 'écologie',\n",
       " 'excluent',\n",
       " 'mutuellement',\n",
       " 'conduit',\n",
       " 'alternative',\n",
       " 'simpliste',\n",
       " 'polluer',\n",
       " 'interdire',\n",
       " 'voiture',\n",
       " 'vision',\n",
       " 'conciliant',\n",
       " 'technique',\n",
       " 'écologie',\n",
       " 'conduit',\n",
       " 'lintroduction',\n",
       " 'catalyseui',\n",
       " 'préserve',\n",
       " 'liberté',\n",
       " 'citoyens',\n",
       " 'choisir',\n",
       " 'mode',\n",
       " 'déplacement',\n",
       " 'sil',\n",
       " 'aujourdhui',\n",
       " 'choix',\n",
       " 'àfain',\n",
       " 'matière',\n",
       " 'protection',\n",
       " 'environne',\n",
       " 'ment',\n",
       " 'plutôt',\n",
       " 'entre',\n",
       " 'lécologie',\n",
       " 'idéo',\n",
       " 'logique',\n",
       " 'lécologie',\n",
       " 'scientifique',\n",
       " 'mouvements',\n",
       " 'écologiques',\n",
       " 'politique',\n",
       " 'regrette',\n",
       " 'plus',\n",
       " 'proches',\n",
       " 'lidéologie',\n",
       " 'rigueur',\n",
       " 'scientifi',\n",
       " 'voire',\n",
       " 'véritable',\n",
       " 'esprit',\n",
       " 'démo',\n",
       " 'cratique',\n",
       " 'haroun',\n",
       " 'tazieff',\n",
       " 'défenseur',\n",
       " 'première',\n",
       " 'heure',\n",
       " 'environnement',\n",
       " 'distancé',\n",
       " 'récemment',\n",
       " 'écologis',\n",
       " 'politiques',\n",
       " 'ondes',\n",
       " 'radie',\n",
       " 'romande',\n",
       " 'affirmant',\n",
       " 'substance',\n",
       " 'longtemps',\n",
       " 'combattu',\n",
       " 'côté',\n",
       " 'développant',\n",
       " 'idées',\n",
       " 'mensongères',\n",
       " 'fait',\n",
       " 'gagne',\n",
       " 'idée',\n",
       " 'prétendaient',\n",
       " 'lin',\n",
       " 'dustrie',\n",
       " 'nucléaire',\n",
       " 'pacifique',\n",
       " 'france',\n",
       " 'allait',\n",
       " 'polluer',\n",
       " 'air',\n",
       " 'eau',\n",
       " 'façor',\n",
       " 'radioactive',\n",
       " 'autre',\n",
       " 'part',\n",
       " 'quil',\n",
       " 'avah',\n",
       " 'risques',\n",
       " 'épouvantables',\n",
       " 'explosion',\n",
       " 'type',\n",
       " 'bombe',\n",
       " 'nucléaire',\n",
       " 'absolument',\n",
       " 'faux',\n",
       " 'perdu',\n",
       " 'bataille',\n",
       " 'mensonge',\n",
       " 'chose',\n",
       " 'inadmissible',\n",
       " 'fin',\n",
       " 'justifie',\n",
       " 'lei',\n",
       " 'moyens',\n",
       " 'corba',\n",
       " 'textes',\n",
       " 'publiés',\n",
       " 'sous',\n",
       " 'cette',\n",
       " 'rubrique',\n",
       " 'reflètent',\n",
       " 'forcément',\n",
       " 'avis',\n",
       " 'rédaction']"
      ]
     },
     "execution_count": 41,
     "metadata": {},
     "output_type": "execute_result"
    }
   ],
   "source": [
    "articles.loc[0]['tokens'][]"
   ]
  },
  {
   "cell_type": "code",
   "execution_count": 48,
   "metadata": {},
   "outputs": [
    {
     "name": "stdout",
     "output_type": "stream",
     "text": [
      "écologique\n"
     ]
    }
   ],
   "source": [
    "import spacy\n",
    "from spacy_lefff import LefffLemmatizer\n",
    "from spacy.language import Language\n",
    "\n",
    "\n",
    "def create_french_lemmatizer(nlp, name):\n",
    "    return LefffLemmatizer()\n",
    "\n",
    "nlp = spacy.load('fr_core_news_sm')\n",
    "nlp.add_pipe('french_lemmatizer', name='lefff')\n",
    "doc = nlp('écologique')\n",
    "for d in doc:\n",
    "    print(d.lemma_)"
   ]
  },
  {
   "cell_type": "code",
   "execution_count": 61,
   "metadata": {},
   "outputs": [
    {
     "data": {
      "text/plain": [
       "'politicien'"
      ]
     },
     "execution_count": 61,
     "metadata": {},
     "output_type": "execute_result"
    }
   ],
   "source": [
    "from nltk.stem.snowball import FrenchStemmer\n",
    "stemmer = FrenchStemmer()\n",
    "stemmer.stem('politicien')"
   ]
  },
  {
   "cell_type": "markdown",
   "metadata": {},
   "source": [
    "# LDA"
   ]
  },
  {
   "cell_type": "code",
   "execution_count": null,
   "metadata": {},
   "outputs": [],
   "source": [
    "def assess_lda(list_ntopics\n",
    "               , tokenized_texts\n",
    "               , nmin = 20\n",
    "               , nmax = 0.95\n",
    "               , random_state = 42\n",
    "               , passes = 10\n",
    "               , alpha = \"auto\" #0.01\n",
    "               , eta = \"auto\" #0.01\n",
    "               , nb_it = 500\n",
    "               , eval_every = None\n",
    "              ):\n",
    "\n",
    "    dictionary_LDA = corpora.Dictionary(tokenized_texts)\n",
    "    dictionary_LDA.filter_extremes(no_below=nmin, no_above=nmax)\n",
    "\n",
    "    corpus = [dictionary_LDA.doc2bow(article) for article in tokenized_texts]\n",
    "    model_tfidf = models.TfidfModel(corpus)\n",
    "    corpus_tfidf = model_tfidf[corpus]\n",
    "    \n",
    "    C_vs = np.zeros(len(list_ntopics))\n",
    "    C_umasss = np.zeros(len(list_ntopics))\n",
    "\n",
    "    multi_n_topics=list(itertools.chain(*[[n]*n for n in list_ntopics]))\n",
    "    topic_id=list(itertools.chain(*[list(np.arange(n)) for n in list_ntopics]))\n",
    "    lda_df = pd.DataFrame(index=[multi_n_topics, topic_id])\n",
    "    lda_df[\"top_words\"] = ['']*len(lda_df)\n",
    "\n",
    "    for i, n_topics in tqdm(enumerate(list_ntopics)):\n",
    "        curr_lda_model = models.LdaModel(corpus_tfidf\n",
    "                                         , num_topics=n_topics\n",
    "                                         , id2word=dictionary_LDA\n",
    "                                         , passes=passes\n",
    "                                         , alpha=[alpha]*n_topics\n",
    "                                         , eta=[eta]*len(dictionary_LDA.keys())\n",
    "                                         , eval_every=eval_every\n",
    "                                         , random_state=random_state\n",
    "                                        )\n",
    "        \n",
    "        for j,topic in curr_lda_model.show_topics(formatted=True, num_topics=n_topics, num_words=25):\n",
    "            lda_df.loc[n_topics,j][\"top_words\"]=topic\n",
    "\n",
    "        C_vs[i] = CoherenceModel(model=curr_lda_model\n",
    "                                 , texts=tokenized_texts\n",
    "                                 , dictionary=dictionary_LDA\n",
    "                                 , coherence='c_v'\n",
    "                                ).get_coherence()\n",
    "\n",
    "        C_umasss[i] = CoherenceModel(model=curr_lda_model\n",
    "                                     , corpus=corpus_tfidf\n",
    "                                     , coherence='u_mass'\n",
    "                                    ).get_coherence()\n",
    "        \n",
    "    return lda_df, C_vs, C_umasss"
   ]
  },
  {
   "cell_type": "code",
   "execution_count": 63,
   "metadata": {},
   "outputs": [],
   "source": [
    "def plot_cv_cumass(ntopics, cvs, cumasss):\n",
    "    # create figure and axis objects with subplots()\n",
    "    fig,ax = plt.subplots(figsize=(10,7))\n",
    "    # make a plot\n",
    "    ax.plot(ntopics, cvs, color=\"red\", marker=\"o\")\n",
    "    # set x-axis label\n",
    "    ax.set_xlabel(\"Number of topics\",fontsize=14)\n",
    "    # set y-axis label\n",
    "    ax.set_ylabel(r\"$C_v$\",color=\"red\",fontsize=14)\n",
    "    # twin object for two different y-axis on the sample plot\n",
    "    ax2=ax.twinx()\n",
    "    # make a plot with different y-axis using second axis object\n",
    "    ax2.plot(ntopics, cumasss,color=\"blue\",marker=\"o\")\n",
    "    ax2.set_ylabel(r\"$C_{umass}$\",color=\"blue\",fontsize=14)\n",
    "    plt.show()"
   ]
  },
  {
   "cell_type": "code",
   "execution_count": null,
   "metadata": {},
   "outputs": [
    {
     "name": "stderr",
     "output_type": "stream",
     "text": [
      "3it [27:44, 551.57s/it]"
     ]
    }
   ],
   "source": [
    "N_min = 5\n",
    "perc_max = 0.9\n",
    "\n",
    "N_topics = np.arange(5,50,2, dtype=int)\n",
    "\n",
    "lda_df, C_vs, C_umasss = assess_lda(list_ntopics = N_topics\n",
    "                                    , tokenized_texts = tokenized_articles\n",
    "                                    , nmin = N_min\n",
    "                                    , nmax = perc_max\n",
    "                                    , random_state = 42\n",
    "                                    , passes = 10\n",
    "                                    , alpha = 0.01\n",
    "                                    , eta = 0.01\n",
    "                                    , nb_it = 500\n",
    "                                    , eval_every = None\n",
    "                                   )"
   ]
  },
  {
   "cell_type": "code",
   "execution_count": null,
   "metadata": {},
   "outputs": [],
   "source": [
    "plot_cv_cumass(N_topics, C_vs, C_umasss)"
   ]
  },
  {
   "cell_type": "code",
   "execution_count": 32,
   "metadata": {},
   "outputs": [],
   "source": [
    "lda_df.to_csv(\"lda_5_50_2_5_09.csv\")"
   ]
  },
  {
   "cell_type": "code",
   "execution_count": 31,
   "metadata": {},
   "outputs": [
    {
     "data": {
      "text/html": [
       "<div>\n",
       "<style scoped>\n",
       "    .dataframe tbody tr th:only-of-type {\n",
       "        vertical-align: middle;\n",
       "    }\n",
       "\n",
       "    .dataframe tbody tr th {\n",
       "        vertical-align: top;\n",
       "    }\n",
       "\n",
       "    .dataframe thead th {\n",
       "        text-align: right;\n",
       "    }\n",
       "</style>\n",
       "<table border=\"1\" class=\"dataframe\">\n",
       "  <thead>\n",
       "    <tr style=\"text-align: right;\">\n",
       "      <th></th>\n",
       "      <th>top_words</th>\n",
       "    </tr>\n",
       "  </thead>\n",
       "  <tbody>\n",
       "    <tr>\n",
       "      <th>0</th>\n",
       "      <td>0.020*\"canons\" + 0.019*\"neige\" + 0.014*\"remontées\" + 0.013*\"télésiège\" + 0.012*\"mécaniques\" + 0.011*\"enneigement\" + 0.011*\"grimentz\" + 0.010*\"diablerets\" + 0.009*\"cabane\" + 0.007*\"chalets\" + 0.007*\"skieurs\" + 0.007*\"artificiel\" + 0.007*\"chamonix\" + 0.006*\"saintluc\" + 0.006*\"vercorin\" + 0.006*\"zinal\" + 0.006*\"week\" + 0.006*\"station\" + 0.006*\"cheyres\" + 0.005*\"glacier\" + 0.005*\"téléverbier\" + 0.005*\"aoste\" + 0.005*\"cadehl\" + 0.005*\"brélaz\" + 0.005*\"anniviers\"</td>\n",
       "    </tr>\n",
       "    <tr>\n",
       "      <th>1</th>\n",
       "      <td>0.029*\"nlfa\" + 0.018*\"sociauxdémocrates\" + 0.015*\"rplp\" + 0.014*\"eveline\" + 0.012*\"widmerschlumpf\" + 0.010*\"bilatérales\" + 0.009*\"iris\" + 0.008*\"suède\" + 0.008*\"hockey\" + 0.007*\"fûts\" + 0.007*\"grisonne\" + 0.007*\"haury\" + 0.006*\"campagnols\" + 0.006*\"jacquesandré\" + 0.005*\"lake\" + 0.005*\"tél\" + 0.005*\"city\" + 0.005*\"navire\" + 0.005*\"garage\" + 0.005*\"kenya\" + 0.005*\"park\" + 0.005*\"adg\" + 0.004*\"vainqueurs\" + 0.004*\"lpp\" + 0.004*\"clavien\"</td>\n",
       "    </tr>\n",
       "    <tr>\n",
       "      <th>2</th>\n",
       "      <td>0.007*\"parti\" + 0.007*\"conseil\" + 0.005*\"gauche\" + 0.004*\"national\" + 0.004*\"voix\" + 0.004*\"droite\" + 0.004*\"partis\" + 0.004*\"socialistes\" + 0.004*\"verts\" + 0.004*\"socialiste\" + 0.004*\"sièges\" + 0.004*\"linitiative\" + 0.004*\"majorité\" + 0.003*\"élections\" + 0.003*\"pdc\" + 0.003*\"radicaux\" + 0.003*\"parlement\" + 0.003*\"etats\" + 0.003*\"initiative\" + 0.003*\"detat\" + 0.003*\"fédéral\" + 0.003*\"candidats\" + 0.003*\"gouvernement\" + 0.003*\"libéraux\" + 0.003*\"peuple\"</td>\n",
       "    </tr>\n",
       "    <tr>\n",
       "      <th>3</th>\n",
       "      <td>0.006*\"coalition\" + 0.005*\"cdu\" + 0.005*\"chirac\" + 0.004*\"pes\" + 0.004*\"municipales\" + 0.003*\"eos\" + 0.003*\"strauss\" + 0.003*\"hydrorhône\" + 0.003*\"jospin\" + 0.003*\"réacteur\" + 0.003*\"motion\" + 0.003*\"blocher\" + 0.003*\"gerhard\" + 0.003*\"rocard\" + 0.002*\"crime\" + 0.002*\"bâleville\" + 0.002*\"électriciens\" + 0.002*\"réélu\" + 0.002*\"galmiz\" + 0.002*\"kosovo\" + 0.002*\"francophones\" + 0.002*\"lat\" + 0.002*\"fusion\" + 0.002*\"laccord\" + 0.002*\"csu\"</td>\n",
       "    </tr>\n",
       "    <tr>\n",
       "      <th>4</th>\n",
       "      <td>0.023*\"rothenthurm\" + 0.011*\"denner\" + 0.011*\"fsc\" + 0.009*\"darmes\" + 0.008*\"dmf\" + 0.007*\"transgénique\" + 0.007*\"plutonium\" + 0.006*\"ulm\" + 0.006*\"last\" + 0.005*\"hubacher\" + 0.005*\"transgéniques\" + 0.005*\"soja\" + 0.005*\"cherbourg\" + 0.005*\"monsanto\" + 0.005*\"sri\" + 0.004*\"maru\" + 0.004*\"langenberger\" + 0.004*\"brest\" + 0.004*\"neuchlenanschwilen\" + 0.004*\"profitez\" + 0.004*\"pnr\" + 0.004*\"badewurtemberg\" + 0.004*\"forest\" + 0.003*\"lirak\" + 0.003*\"leasing\"</td>\n",
       "    </tr>\n",
       "    <tr>\n",
       "      <th>5</th>\n",
       "      <td>0.059*\"golf\" + 0.019*\"grimisuat\" + 0.011*\"jeûne\" + 0.009*\"tsamarau\" + 0.007*\"plongeurs\" + 0.007*\"défrichement\" + 0.006*\"anzère\" + 0.006*\"toxicomanes\" + 0.006*\"roumains\" + 0.005*\"pneus\" + 0.005*\"chanvre\" + 0.004*\"conseu\" + 0.004*\"fee\" + 0.004*\"serbie\" + 0.004*\"vogel\" + 0.004*\"rallye\" + 0.004*\"milosevic\" + 0.003*\"unesco\" + 0.003*\"petitduc\" + 0.003*\"gottlieb\" + 0.003*\"toyota\" + 0.002*\"gwh\" + 0.002*\"treyvaux\" + 0.002*\"piccard\" + 0.002*\"coca\"</td>\n",
       "    </tr>\n",
       "    <tr>\n",
       "      <th>6</th>\n",
       "      <td>0.023*\"nostra\" + 0.022*\"giscard\" + 0.018*\"aqua\" + 0.016*\"destaing\" + 0.015*\"motocross\" + 0.010*\"honda\" + 0.010*\"pef\" + 0.008*\"félix\" + 0.008*\"pétrolier\" + 0.007*\"daqua\" + 0.007*\"motards\" + 0.007*\"roggo\" + 0.007*\"francfort\" + 0.006*\"troislacs\" + 0.005*\"pétroliers\" + 0.005*\"fioul\" + 0.005*\"hybride\" + 0.005*\"die\" + 0.005*\"psv\" + 0.005*\"chappaz\" + 0.004*\"volvo\" + 0.004*\"boff\" + 0.004*\"leonardo\" + 0.004*\"réparation\" + 0.004*\"valdez\"</td>\n",
       "    </tr>\n",
       "    <tr>\n",
       "      <th>7</th>\n",
       "      <td>0.003*\"cio\" + 0.003*\"jeux\" + 0.003*\"olympique\" + 0.003*\"rad\" + 0.003*\"locataires\" + 0.003*\"olympiques\" + 0.002*\"cleusondixence\" + 0.002*\"coalition\" + 0.002*\"salquenen\" + 0.002*\"pacifistes\" + 0.002*\"rudolf\" + 0.002*\"fasel\" + 0.002*\"manche\" + 0.002*\"affirment\" + 0.002*\"larrêté\" + 0.002*\"kaspar\" + 0.002*\"lyon\" + 0.002*\"contribuables\" + 0.002*\"exclu\" + 0.002*\"barras\" + 0.002*\"critiqué\" + 0.002*\"épreuves\" + 0.002*\"victime\" + 0.002*\"radicales\" + 0.002*\"maintient\"</td>\n",
       "    </tr>\n",
       "    <tr>\n",
       "      <th>8</th>\n",
       "      <td>0.003*\"motion\" + 0.002*\"villiger\" + 0.002*\"leglise\" + 0.002*\"dmf\" + 0.002*\"journal\" + 0.002*\"saint\" + 0.002*\"ong\" + 0.002*\"blocher\" + 0.002*\"mur\" + 0.002*\"députation\" + 0.002*\"variantes\" + 0.002*\"furgler\" + 0.002*\"euro\" + 0.002*\"abstentions\" + 0.002*\"gypaète\" + 0.002*\"gpe\" + 0.002*\"conservateur\" + 0.002*\"phosphates\" + 0.002*\"frey\" + 0.002*\"secret\" + 0.002*\"sénateurs\" + 0.002*\"jds\" + 0.001*\"magistrat\" + 0.001*\"plénum\" + 0.001*\"bonus\"</td>\n",
       "    </tr>\n",
       "    <tr>\n",
       "      <th>9</th>\n",
       "      <td>0.002*\"suisse\" + 0.001*\"projet\" + 0.001*\"plus\" + 0.001*\"cette\" + 0.001*\"bien\" + 0.001*\"millions\" + 0.001*\"fait\" + 0.001*\"ans\" + 0.001*\"pays\" + 0.001*\"être\" + 0.001*\"francs\" + 0.001*\"faire\" + 0.001*\"entre\" + 0.001*\"nucléaire\" + 0.001*\"encore\" + 0.001*\"valais\" + 0.001*\"moins\" + 0.001*\"tous\" + 0.001*\"leurs\" + 0.001*\"deux\" + 0.001*\"protection\" + 0.001*\"quil\" + 0.001*\"depuis\" + 0.001*\"déjà\" + 0.001*\"dont\"</td>\n",
       "    </tr>\n",
       "    <tr>\n",
       "      <th>10</th>\n",
       "      <td>0.017*\"championnats\" + 0.015*\"navettes\" + 0.013*\"orgamol\" + 0.013*\"egli\" + 0.009*\"alphons\" + 0.006*\"abeilles\" + 0.004*\"usagés\" + 0.004*\"renards\" + 0.004*\"mcdonald\" + 0.003*\"boue\" + 0.003*\"locarno\" + 0.003*\"alsace\" + 0.003*\"media\" + 0.003*\"halle\" + 0.003*\"clavier\" + 0.003*\"suzuki\" + 0.002*\"mcdonalds\" + 0.002*\"helvetia\" + 0.002*\"textiles\" + 0.002*\"shopping\" + 0.002*\"concernée\" + 0.002*\"wenger\" + 0.002*\"zap\" + 0.002*\"sogaval\" + 0.001*\"seba\"</td>\n",
       "    </tr>\n",
       "  </tbody>\n",
       "</table>\n",
       "</div>"
      ],
      "text/plain": [
       "                                                                                                                                                                                                                                                                                                                                                                                                                                                                        top_words\n",
       "0   0.020*\"canons\" + 0.019*\"neige\" + 0.014*\"remontées\" + 0.013*\"télésiège\" + 0.012*\"mécaniques\" + 0.011*\"enneigement\" + 0.011*\"grimentz\" + 0.010*\"diablerets\" + 0.009*\"cabane\" + 0.007*\"chalets\" + 0.007*\"skieurs\" + 0.007*\"artificiel\" + 0.007*\"chamonix\" + 0.006*\"saintluc\" + 0.006*\"vercorin\" + 0.006*\"zinal\" + 0.006*\"week\" + 0.006*\"station\" + 0.006*\"cheyres\" + 0.005*\"glacier\" + 0.005*\"téléverbier\" + 0.005*\"aoste\" + 0.005*\"cadehl\" + 0.005*\"brélaz\" + 0.005*\"anniviers\"\n",
       "1                          0.029*\"nlfa\" + 0.018*\"sociauxdémocrates\" + 0.015*\"rplp\" + 0.014*\"eveline\" + 0.012*\"widmerschlumpf\" + 0.010*\"bilatérales\" + 0.009*\"iris\" + 0.008*\"suède\" + 0.008*\"hockey\" + 0.007*\"fûts\" + 0.007*\"grisonne\" + 0.007*\"haury\" + 0.006*\"campagnols\" + 0.006*\"jacquesandré\" + 0.005*\"lake\" + 0.005*\"tél\" + 0.005*\"city\" + 0.005*\"navire\" + 0.005*\"garage\" + 0.005*\"kenya\" + 0.005*\"park\" + 0.005*\"adg\" + 0.004*\"vainqueurs\" + 0.004*\"lpp\" + 0.004*\"clavien\"\n",
       "2        0.007*\"parti\" + 0.007*\"conseil\" + 0.005*\"gauche\" + 0.004*\"national\" + 0.004*\"voix\" + 0.004*\"droite\" + 0.004*\"partis\" + 0.004*\"socialistes\" + 0.004*\"verts\" + 0.004*\"socialiste\" + 0.004*\"sièges\" + 0.004*\"linitiative\" + 0.004*\"majorité\" + 0.003*\"élections\" + 0.003*\"pdc\" + 0.003*\"radicaux\" + 0.003*\"parlement\" + 0.003*\"etats\" + 0.003*\"initiative\" + 0.003*\"detat\" + 0.003*\"fédéral\" + 0.003*\"candidats\" + 0.003*\"gouvernement\" + 0.003*\"libéraux\" + 0.003*\"peuple\"\n",
       "3                          0.006*\"coalition\" + 0.005*\"cdu\" + 0.005*\"chirac\" + 0.004*\"pes\" + 0.004*\"municipales\" + 0.003*\"eos\" + 0.003*\"strauss\" + 0.003*\"hydrorhône\" + 0.003*\"jospin\" + 0.003*\"réacteur\" + 0.003*\"motion\" + 0.003*\"blocher\" + 0.003*\"gerhard\" + 0.003*\"rocard\" + 0.002*\"crime\" + 0.002*\"bâleville\" + 0.002*\"électriciens\" + 0.002*\"réélu\" + 0.002*\"galmiz\" + 0.002*\"kosovo\" + 0.002*\"francophones\" + 0.002*\"lat\" + 0.002*\"fusion\" + 0.002*\"laccord\" + 0.002*\"csu\"\n",
       "4        0.023*\"rothenthurm\" + 0.011*\"denner\" + 0.011*\"fsc\" + 0.009*\"darmes\" + 0.008*\"dmf\" + 0.007*\"transgénique\" + 0.007*\"plutonium\" + 0.006*\"ulm\" + 0.006*\"last\" + 0.005*\"hubacher\" + 0.005*\"transgéniques\" + 0.005*\"soja\" + 0.005*\"cherbourg\" + 0.005*\"monsanto\" + 0.005*\"sri\" + 0.004*\"maru\" + 0.004*\"langenberger\" + 0.004*\"brest\" + 0.004*\"neuchlenanschwilen\" + 0.004*\"profitez\" + 0.004*\"pnr\" + 0.004*\"badewurtemberg\" + 0.004*\"forest\" + 0.003*\"lirak\" + 0.003*\"leasing\"\n",
       "5                       0.059*\"golf\" + 0.019*\"grimisuat\" + 0.011*\"jeûne\" + 0.009*\"tsamarau\" + 0.007*\"plongeurs\" + 0.007*\"défrichement\" + 0.006*\"anzère\" + 0.006*\"toxicomanes\" + 0.006*\"roumains\" + 0.005*\"pneus\" + 0.005*\"chanvre\" + 0.004*\"conseu\" + 0.004*\"fee\" + 0.004*\"serbie\" + 0.004*\"vogel\" + 0.004*\"rallye\" + 0.004*\"milosevic\" + 0.003*\"unesco\" + 0.003*\"petitduc\" + 0.003*\"gottlieb\" + 0.003*\"toyota\" + 0.002*\"gwh\" + 0.002*\"treyvaux\" + 0.002*\"piccard\" + 0.002*\"coca\"\n",
       "6                                 0.023*\"nostra\" + 0.022*\"giscard\" + 0.018*\"aqua\" + 0.016*\"destaing\" + 0.015*\"motocross\" + 0.010*\"honda\" + 0.010*\"pef\" + 0.008*\"félix\" + 0.008*\"pétrolier\" + 0.007*\"daqua\" + 0.007*\"motards\" + 0.007*\"roggo\" + 0.007*\"francfort\" + 0.006*\"troislacs\" + 0.005*\"pétroliers\" + 0.005*\"fioul\" + 0.005*\"hybride\" + 0.005*\"die\" + 0.005*\"psv\" + 0.005*\"chappaz\" + 0.004*\"volvo\" + 0.004*\"boff\" + 0.004*\"leonardo\" + 0.004*\"réparation\" + 0.004*\"valdez\"\n",
       "7   0.003*\"cio\" + 0.003*\"jeux\" + 0.003*\"olympique\" + 0.003*\"rad\" + 0.003*\"locataires\" + 0.003*\"olympiques\" + 0.002*\"cleusondixence\" + 0.002*\"coalition\" + 0.002*\"salquenen\" + 0.002*\"pacifistes\" + 0.002*\"rudolf\" + 0.002*\"fasel\" + 0.002*\"manche\" + 0.002*\"affirment\" + 0.002*\"larrêté\" + 0.002*\"kaspar\" + 0.002*\"lyon\" + 0.002*\"contribuables\" + 0.002*\"exclu\" + 0.002*\"barras\" + 0.002*\"critiqué\" + 0.002*\"épreuves\" + 0.002*\"victime\" + 0.002*\"radicales\" + 0.002*\"maintient\"\n",
       "8                            0.003*\"motion\" + 0.002*\"villiger\" + 0.002*\"leglise\" + 0.002*\"dmf\" + 0.002*\"journal\" + 0.002*\"saint\" + 0.002*\"ong\" + 0.002*\"blocher\" + 0.002*\"mur\" + 0.002*\"députation\" + 0.002*\"variantes\" + 0.002*\"furgler\" + 0.002*\"euro\" + 0.002*\"abstentions\" + 0.002*\"gypaète\" + 0.002*\"gpe\" + 0.002*\"conservateur\" + 0.002*\"phosphates\" + 0.002*\"frey\" + 0.002*\"secret\" + 0.002*\"sénateurs\" + 0.002*\"jds\" + 0.001*\"magistrat\" + 0.001*\"plénum\" + 0.001*\"bonus\"\n",
       "9                                                             0.002*\"suisse\" + 0.001*\"projet\" + 0.001*\"plus\" + 0.001*\"cette\" + 0.001*\"bien\" + 0.001*\"millions\" + 0.001*\"fait\" + 0.001*\"ans\" + 0.001*\"pays\" + 0.001*\"être\" + 0.001*\"francs\" + 0.001*\"faire\" + 0.001*\"entre\" + 0.001*\"nucléaire\" + 0.001*\"encore\" + 0.001*\"valais\" + 0.001*\"moins\" + 0.001*\"tous\" + 0.001*\"leurs\" + 0.001*\"deux\" + 0.001*\"protection\" + 0.001*\"quil\" + 0.001*\"depuis\" + 0.001*\"déjà\" + 0.001*\"dont\"\n",
       "10                      0.017*\"championnats\" + 0.015*\"navettes\" + 0.013*\"orgamol\" + 0.013*\"egli\" + 0.009*\"alphons\" + 0.006*\"abeilles\" + 0.004*\"usagés\" + 0.004*\"renards\" + 0.004*\"mcdonald\" + 0.003*\"boue\" + 0.003*\"locarno\" + 0.003*\"alsace\" + 0.003*\"media\" + 0.003*\"halle\" + 0.003*\"clavier\" + 0.003*\"suzuki\" + 0.002*\"mcdonalds\" + 0.002*\"helvetia\" + 0.002*\"textiles\" + 0.002*\"shopping\" + 0.002*\"concernée\" + 0.002*\"wenger\" + 0.002*\"zap\" + 0.002*\"sogaval\" + 0.001*\"seba\""
      ]
     },
     "metadata": {},
     "output_type": "display_data"
    }
   ],
   "source": [
    "with pd.option_context('display.max_colwidth', None):\n",
    "    display(lda_df.loc[11])"
   ]
  },
  {
   "cell_type": "code",
   "execution_count": 34,
   "metadata": {},
   "outputs": [],
   "source": [
    "N_min = 5\n",
    "perc_max = 0.9\n",
    "\n",
    "dictionary_LDA = corpora.Dictionary(tokenized_articles)\n",
    "dictionary_LDA.filter_extremes(no_below=N_min, no_above=perc_max)\n",
    "\n",
    "corpus = [dictionary_LDA.doc2bow(article) for article in tokenized_articles]"
   ]
  },
  {
   "cell_type": "code",
   "execution_count": 35,
   "metadata": {},
   "outputs": [
    {
     "name": "stdout",
     "output_type": "stream",
     "text": [
      "CPU times: user 34.6 s, sys: 155 ms, total: 34.7 s\n",
      "Wall time: 34.7 s\n",
      "0: 0.013*\"conseil\" + 0.010*\"parti\" + 0.008*\"plus\" + 0.007*\"deux\" + 0.007*\"contre\" + 0.006*\"suisse\" + 0.006*\"fédéral\" + 0.006*\"gauche\" + 0.006*\"politique\" + 0.006*\"national\"\n",
      "\n",
      "1: 0.009*\"projet\" + 0.006*\"cette\" + 0.005*\"plus\" + 0.005*\"valais\" + 0.004*\"canton\" + 0.004*\"deux\" + 0.004*\"écologistes\" + 0.004*\"protection\" + 0.004*\"entre\" + 0.004*\"commune\"\n",
      "\n",
      "2: 0.012*\"plus\" + 0.007*\"bien\" + 0.006*\"cette\" + 0.006*\"fait\" + 0.004*\"faire\" + 0.004*\"tous\" + 0.004*\"ans\" + 0.004*\"monde\" + 0.004*\"quil\" + 0.003*\"écologistes\"\n",
      "\n",
      "3: 0.012*\"plus\" + 0.006*\"nucléaire\" + 0.006*\"suisse\" + 0.005*\"cette\" + 0.004*\"être\" + 0.004*\"lénergie\" + 0.004*\"millions\" + 0.004*\"moins\" + 0.003*\"francs\" + 0.003*\"deux\"\n",
      "\n",
      "4: 0.013*\"plus\" + 0.011*\"suisse\" + 0.006*\"pays\" + 0.005*\"cette\" + 0.005*\"être\" + 0.004*\"environnement\" + 0.004*\"protection\" + 0.004*\"produits\" + 0.003*\"agriculture\" + 0.003*\"production\"\n",
      "\n"
     ]
    }
   ],
   "source": [
    "num_opt = 5\n",
    "%time lda_model = models.LdaModel(corpus, num_topics=num_opt, \\\n",
    "                                  id2word=dictionary_LDA, \\\n",
    "                                  passes=4, alpha=[0.01]*num_opt, \\\n",
    "                                  eta=[0.01]*len(dictionary_LDA.keys()))\n",
    "\n",
    "for i,topic in lda_model.show_topics(formatted=True, num_topics=num_opt, num_words=10):\n",
    "    print(str(i)+\": \"+ topic)\n",
    "    print()"
   ]
  },
  {
   "cell_type": "code",
   "execution_count": 100,
   "metadata": {},
   "outputs": [
    {
     "data": {
      "text/html": [
       "<div>\n",
       "<style scoped>\n",
       "    .dataframe tbody tr th:only-of-type {\n",
       "        vertical-align: middle;\n",
       "    }\n",
       "\n",
       "    .dataframe tbody tr th {\n",
       "        vertical-align: top;\n",
       "    }\n",
       "\n",
       "    .dataframe thead th {\n",
       "        text-align: right;\n",
       "    }\n",
       "</style>\n",
       "<table border=\"1\" class=\"dataframe\">\n",
       "  <thead>\n",
       "    <tr style=\"text-align: right;\">\n",
       "      <th></th>\n",
       "      <th></th>\n",
       "      <th>top_words</th>\n",
       "    </tr>\n",
       "  </thead>\n",
       "  <tbody>\n",
       "    <tr>\n",
       "      <th rowspan=\"3\" valign=\"top\">3</th>\n",
       "      <th>0</th>\n",
       "      <td></td>\n",
       "    </tr>\n",
       "    <tr>\n",
       "      <th>1</th>\n",
       "      <td></td>\n",
       "    </tr>\n",
       "    <tr>\n",
       "      <th>2</th>\n",
       "      <td></td>\n",
       "    </tr>\n",
       "    <tr>\n",
       "      <th rowspan=\"2\" valign=\"top\">4</th>\n",
       "      <th>0</th>\n",
       "      <td></td>\n",
       "    </tr>\n",
       "    <tr>\n",
       "      <th>1</th>\n",
       "      <td></td>\n",
       "    </tr>\n",
       "    <tr>\n",
       "      <th>...</th>\n",
       "      <th>...</th>\n",
       "      <td>...</td>\n",
       "    </tr>\n",
       "    <tr>\n",
       "      <th rowspan=\"5\" valign=\"top\">24</th>\n",
       "      <th>19</th>\n",
       "      <td></td>\n",
       "    </tr>\n",
       "    <tr>\n",
       "      <th>20</th>\n",
       "      <td></td>\n",
       "    </tr>\n",
       "    <tr>\n",
       "      <th>21</th>\n",
       "      <td></td>\n",
       "    </tr>\n",
       "    <tr>\n",
       "      <th>22</th>\n",
       "      <td></td>\n",
       "    </tr>\n",
       "    <tr>\n",
       "      <th>23</th>\n",
       "      <td></td>\n",
       "    </tr>\n",
       "  </tbody>\n",
       "</table>\n",
       "<p>297 rows × 1 columns</p>\n",
       "</div>"
      ],
      "text/plain": [
       "      top_words\n",
       "3  0           \n",
       "   1           \n",
       "   2           \n",
       "4  0           \n",
       "   1           \n",
       "...         ...\n",
       "24 19          \n",
       "   20          \n",
       "   21          \n",
       "   22          \n",
       "   23          \n",
       "\n",
       "[297 rows x 1 columns]"
      ]
     },
     "execution_count": 100,
     "metadata": {},
     "output_type": "execute_result"
    }
   ],
   "source": [
    "nums_topics = np.arange(3,25,1)\n",
    "C_vs = np.zeros(len(nums_topics))\n",
    "C_umasss = np.zeros(len(nums_topics))\n",
    "\n",
    "multi_n_topics=list(itertools.chain(*[[n]*n for n in nums_topics]))\n",
    "topic_id=list(itertools.chain(*[list(np.arange(n)) for n in nums_topics]))\n",
    "arrays = [multi_n_topics, topic_id]\n",
    "\n",
    "lda_df = pd.DataFrame(index=arrays)\n",
    "lda_df[\"top_words\"] = ['']*len(lda_df)\n",
    "\n",
    "lda_df"
   ]
  },
  {
   "cell_type": "code",
   "execution_count": 101,
   "metadata": {},
   "outputs": [
    {
     "name": "stderr",
     "output_type": "stream",
     "text": [
      "22it [20:35, 56.17s/it]\n"
     ]
    }
   ],
   "source": [
    "for i, n_topics in tqdm(enumerate(nums_topics)):\n",
    "    curr_lda_model = models.LdaModel(corpus\n",
    "                                     , num_topics=n_topics\n",
    "                                     , id2word=dictionary_LDA\n",
    "                                     , passes=4\n",
    "                                     , alpha=[0.01]*n_topics\n",
    "                                     , eta=[0.01]*len(dictionary_LDA.keys())\n",
    "                                    )\n",
    "    \n",
    "    for j,topic in curr_lda_model.show_topics(formatted=True, num_topics=n_topics, num_words=25):\n",
    "        lda_df.loc[i+np.min(nums_topics),j]=topic\n",
    "    \n",
    "    \n",
    "    C_vs[i] = CoherenceModel(model=curr_lda_model\n",
    "                             , texts=tokenized_articles\n",
    "                             , dictionary=dictionary_LDA\n",
    "                             , coherence='c_v'\n",
    "                            ).get_coherence()\n",
    "    \n",
    "    C_umasss[i] = CoherenceModel(model=curr_lda_model\n",
    "                                 , corpus=corpus\n",
    "                                 , coherence='u_mass'\n",
    "                                ).get_coherence()"
   ]
  },
  {
   "cell_type": "code",
   "execution_count": 102,
   "metadata": {},
   "outputs": [
    {
     "data": {
      "image/png": "[encoded data removed]",
      "text/plain": [
       "<Figure size 720x504 with 2 Axes>"
      ]
     },
     "metadata": {
      "needs_background": "light"
     },
     "output_type": "display_data"
    }
   ],
   "source": [
    "# create figure and axis objects with subplots()\n",
    "fig,ax = plt.subplots(figsize=(10,7))\n",
    "# make a plot\n",
    "ax.plot(nums_topics, C_vs, color=\"red\", marker=\"o\")\n",
    "# set x-axis label\n",
    "ax.set_xlabel(\"Number of topics\",fontsize=14)\n",
    "# set y-axis label\n",
    "ax.set_ylabel(r\"$C_v$\",color=\"red\",fontsize=14)\n",
    "# twin object for two different y-axis on the sample plot\n",
    "ax2=ax.twinx()\n",
    "# make a plot with different y-axis using second axis object\n",
    "ax2.plot(nums_topics, C_umasss,color=\"blue\",marker=\"o\")\n",
    "ax2.set_ylabel(r\"$C_{umass}$\",color=\"blue\",fontsize=14)\n",
    "plt.show()"
   ]
  },
  {
   "cell_type": "code",
   "execution_count": null,
   "metadata": {},
   "outputs": [],
   "source": []
  }
 ],
 "metadata": {
  "kernelspec": {
   "display_name": "Python 3",
   "language": "python",
   "name": "python3"
  },
  "language_info": {
   "codemirror_mode": {
    "name": "ipython",
    "version": 3
   },
   "file_extension": ".py",
   "mimetype": "text/x-python",
   "name": "python",
   "nbconvert_exporter": "python",
   "pygments_lexer": "ipython3",
   "version": "3.8.3"
  }
 },
 "nbformat": 4,
 "nbformat_minor": 4
}
