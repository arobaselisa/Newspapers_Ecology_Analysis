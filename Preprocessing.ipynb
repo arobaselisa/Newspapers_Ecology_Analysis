{
 "cells": [
  {
   "cell_type": "code",
   "execution_count": 1,
   "metadata": {},
   "outputs": [
    {
     "name": "stderr",
     "output_type": "stream",
     "text": [
      "/Users/nmm/opt/anaconda3/lib/python3.8/site-packages/gensim/similarities/__init__.py:15: UserWarning: The gensim.similarities.levenshtein submodule is disabled, because the optional Levenshtein package <https://pypi.org/project/python-Levenshtein/> is unavailable. Install Levenhstein (e.g. `pip install python-Levenshtein`) to suppress this warning.\n",
      "  warnings.warn(msg)\n"
     ]
    }
   ],
   "source": [
    "import numpy as np\n",
    "import matplotlib.pyplot as plt\n",
    "import pandas as pd\n",
    "from os import listdir\n",
    "from scipy import spatial\n",
    "import itertools\n",
    "\n",
    "from IPython.display import display\n",
    "\n",
    "from sklearn.decomposition import PCA\n",
    "from sklearn.feature_extraction.text import TfidfVectorizer\n",
    "\n",
    "\n",
    "from collections import Counter\n",
    "\n",
    "import dateparser\n",
    "from time import time\n",
    "from tqdm import tqdm\n",
    "\n",
    "import nltk\n",
    "from nltk.tokenize import word_tokenize\n",
    "from nltk.corpus import stopwords\n",
    "\n",
    "import string\n",
    "\n",
    "from spellchecker import SpellChecker\n",
    "\n",
    "from gensim.test.utils import common_texts\n",
    "from gensim.models import Word2Vec\n",
    "from gensim import models, corpora\n",
    "from gensim.models.coherencemodel import CoherenceModel"
   ]
  },
  {
   "cell_type": "markdown",
   "metadata": {},
   "source": [
    "# Loading"
   ]
  },
  {
   "cell_type": "code",
   "execution_count": 2,
   "metadata": {},
   "outputs": [
    {
     "data": {
      "text/html": [
       "<div>\n",
       "<style scoped>\n",
       "    .dataframe tbody tr th:only-of-type {\n",
       "        vertical-align: middle;\n",
       "    }\n",
       "\n",
       "    .dataframe tbody tr th {\n",
       "        vertical-align: top;\n",
       "    }\n",
       "\n",
       "    .dataframe thead th {\n",
       "        text-align: right;\n",
       "    }\n",
       "</style>\n",
       "<table border=\"1\" class=\"dataframe\">\n",
       "  <thead>\n",
       "    <tr style=\"text-align: right;\">\n",
       "      <th></th>\n",
       "      <th>Unnamed: 0</th>\n",
       "      <th>Unnamed: 0.1</th>\n",
       "      <th>Article Title</th>\n",
       "      <th>Journal</th>\n",
       "      <th>Date</th>\n",
       "      <th>Url</th>\n",
       "      <th>Text</th>\n",
       "      <th>Unnamed: 0.1.1</th>\n",
       "    </tr>\n",
       "  </thead>\n",
       "  <tbody>\n",
       "    <tr>\n",
       "      <th>88</th>\n",
       "      <td>88</td>\n",
       "      <td>8</td>\n",
       "      <td>Un/une chef de section Direction de la s...</td>\n",
       "      <td>La Liberté</td>\n",
       "      <td>1995-01-14</td>\n",
       "      <td>https://www.e-newspaperarchives.ch/?a=d&amp;d=LLE1...</td>\n",
       "      <td>Un / une chef de section Direction de la sect...</td>\n",
       "      <td>NaN</td>\n",
       "    </tr>\n",
       "    <tr>\n",
       "      <th>8888</th>\n",
       "      <td>6070</td>\n",
       "      <td>70</td>\n",
       "      <td>2 LA LIBERTE JEUDI 11 JUILLET 2002 La me...</td>\n",
       "      <td>La Liberté</td>\n",
       "      <td>2002-07-11</td>\n",
       "      <td>https://www.e-newspaperarchives.ch/?a=d&amp;d=LLE2...</td>\n",
       "      <td>2 LA LIBERTE JEUDI 11 JUILLET 2002 La mer Adr...</td>\n",
       "      <td>10.0</td>\n",
       "    </tr>\n",
       "    <tr>\n",
       "      <th>14105</th>\n",
       "      <td>2427</td>\n",
       "      <td>427</td>\n",
       "      <td>Hôtel-Restaurant de Sîviez</td>\n",
       "      <td>Le Nouvelliste</td>\n",
       "      <td>1983-12-23</td>\n",
       "      <td>https://www.e-newspaperarchives.ch/?a=d&amp;d=NVE1...</td>\n",
       "      <td>qui sera prise a ce propos par le ministre Ni...</td>\n",
       "      <td>7.0</td>\n",
       "    </tr>\n",
       "    <tr>\n",
       "      <th>16482</th>\n",
       "      <td>4804</td>\n",
       "      <td>804</td>\n",
       "      <td>Pistes contestées de Crans-Montana Balad...</td>\n",
       "      <td>La Liberté</td>\n",
       "      <td>1986-02-14</td>\n",
       "      <td>https://www.e-newspaperarchives.ch/?a=d&amp;d=LLE1...</td>\n",
       "      <td>Pistes contestées de Crans-Montana Balade des...</td>\n",
       "      <td>4.0</td>\n",
       "    </tr>\n",
       "    <tr>\n",
       "      <th>8056</th>\n",
       "      <td>5238</td>\n",
       "      <td>238</td>\n",
       "      <td>Venise sauvée des algues</td>\n",
       "      <td>Le Nouvelliste</td>\n",
       "      <td>1991-12-13</td>\n",
       "      <td>https://www.e-newspaperarchives.ch/?a=d&amp;d=NVE1...</td>\n",
       "      <td>Venise sauvée des algues  Les algues géantes ...</td>\n",
       "      <td>18.0</td>\n",
       "    </tr>\n",
       "  </tbody>\n",
       "</table>\n",
       "</div>"
      ],
      "text/plain": [
       "       Unnamed: 0  Unnamed: 0.1                                 Article Title  \\\n",
       "88             88             8  Un/une chef de section Direction de la s...    \n",
       "8888         6070            70  2 LA LIBERTE JEUDI 11 JUILLET 2002 La me...    \n",
       "14105        2427           427                   Hôtel-Restaurant de Sîviez    \n",
       "16482        4804           804  Pistes contestées de Crans-Montana Balad...    \n",
       "8056         5238           238                     Venise sauvée des algues    \n",
       "\n",
       "              Journal       Date  \\\n",
       "88         La Liberté 1995-01-14   \n",
       "8888       La Liberté 2002-07-11   \n",
       "14105  Le Nouvelliste 1983-12-23   \n",
       "16482      La Liberté 1986-02-14   \n",
       "8056   Le Nouvelliste 1991-12-13   \n",
       "\n",
       "                                                     Url  \\\n",
       "88     https://www.e-newspaperarchives.ch/?a=d&d=LLE1...   \n",
       "8888   https://www.e-newspaperarchives.ch/?a=d&d=LLE2...   \n",
       "14105  https://www.e-newspaperarchives.ch/?a=d&d=NVE1...   \n",
       "16482  https://www.e-newspaperarchives.ch/?a=d&d=LLE1...   \n",
       "8056   https://www.e-newspaperarchives.ch/?a=d&d=NVE1...   \n",
       "\n",
       "                                                    Text  Unnamed: 0.1.1  \n",
       "88      Un / une chef de section Direction de la sect...             NaN  \n",
       "8888    2 LA LIBERTE JEUDI 11 JUILLET 2002 La mer Adr...            10.0  \n",
       "14105   qui sera prise a ce propos par le ministre Ni...             7.0  \n",
       "16482   Pistes contestées de Crans-Montana Balade des...             4.0  \n",
       "8056    Venise sauvée des algues  Les algues géantes ...            18.0  "
      ]
     },
     "execution_count": 2,
     "metadata": {},
     "output_type": "execute_result"
    }
   ],
   "source": [
    "# load the dataset into a Pandas DataFrame and parse the date\n",
    "articles = pd.read_csv(\"../Data/all_articles.csv\", parse_dates=['Date'], date_parser=dateparser.parse)\n",
    "n_before = len(articles) # number of articles in the DF\n",
    "# print 5 radom rows\n",
    "articles.sample(5)"
   ]
  },
  {
   "cell_type": "code",
   "execution_count": 3,
   "metadata": {},
   "outputs": [
    {
     "data": {
      "text/html": [
       "<div>\n",
       "<style scoped>\n",
       "    .dataframe tbody tr th:only-of-type {\n",
       "        vertical-align: middle;\n",
       "    }\n",
       "\n",
       "    .dataframe tbody tr th {\n",
       "        vertical-align: top;\n",
       "    }\n",
       "\n",
       "    .dataframe thead th {\n",
       "        text-align: right;\n",
       "    }\n",
       "</style>\n",
       "<table border=\"1\" class=\"dataframe\">\n",
       "  <thead>\n",
       "    <tr style=\"text-align: right;\">\n",
       "      <th></th>\n",
       "      <th>Article Title</th>\n",
       "      <th>Journal</th>\n",
       "      <th>Date</th>\n",
       "      <th>Url</th>\n",
       "      <th>Text</th>\n",
       "    </tr>\n",
       "  </thead>\n",
       "  <tbody>\n",
       "    <tr>\n",
       "      <th>5827</th>\n",
       "      <td>Pluie ae rees sur le Knone Le conseil de...</td>\n",
       "      <td>Le Nouvelliste</td>\n",
       "      <td>2004-04-08</td>\n",
       "      <td>https://www.e-newspaperarchives.ch/?a=d&amp;d=NVE2...</td>\n",
       "      <td>Pluie ae rees sur le Knone Le conseil de pilo...</td>\n",
       "    </tr>\n",
       "  </tbody>\n",
       "</table>\n",
       "</div>"
      ],
      "text/plain": [
       "                                     Article Title         Journal       Date  \\\n",
       "5827  Pluie ae rees sur le Knone Le conseil de...   Le Nouvelliste 2004-04-08   \n",
       "\n",
       "                                                    Url  \\\n",
       "5827  https://www.e-newspaperarchives.ch/?a=d&d=NVE2...   \n",
       "\n",
       "                                                   Text  \n",
       "5827   Pluie ae rees sur le Knone Le conseil de pilo...  "
      ]
     },
     "execution_count": 3,
     "metadata": {},
     "output_type": "execute_result"
    }
   ],
   "source": [
    "for col in articles.columns:\n",
    "    if \"Unnamed\" in col:\n",
    "        articles.drop(col, axis=1, inplace=True)\n",
    "        \n",
    "articles.sample()"
   ]
  },
  {
   "cell_type": "code",
   "execution_count": 4,
   "metadata": {},
   "outputs": [
    {
     "name": "stdout",
     "output_type": "stream",
     "text": [
      "47 rows with NaN dropped, 22631 articles remaining in the DF.\n"
     ]
    }
   ],
   "source": [
    "# drop rows (=articles) with missing informations\n",
    "articles = articles.dropna().reset_index()\n",
    "print(\"{0} rows with NaN dropped, {1} articles remaining in the DF.\".format(n_before-len(articles), len(articles)))"
   ]
  },
  {
   "cell_type": "code",
   "execution_count": 5,
   "metadata": {},
   "outputs": [
    {
     "name": "stdout",
     "output_type": "stream",
     "text": [
      "22577 rows remaining in the dataset after dropping duplicates.\n"
     ]
    }
   ],
   "source": [
    "# drop duplicate rows\n",
    "articles = articles.drop_duplicates(subset=['Text'])\n",
    "print(\"{0} rows remaining in the dataset after dropping duplicates.\".format(len(articles)))"
   ]
  },
  {
   "cell_type": "markdown",
   "metadata": {},
   "source": [
    "# NLP preprocessing"
   ]
  },
  {
   "cell_type": "code",
   "execution_count": 6,
   "metadata": {},
   "outputs": [],
   "source": [
    "STOP_FR = stopwords.words(\"french\")\n",
    "STOP_FR += [\"comme\", \"tout\", \"aussi\", \"sans\", \"si\", \"selon\"]\n",
    "STOP_FR += [\"de\", \"du\", \"des\"] # added bc of tfidf on epochs\n",
    "\n",
    "PUNCTUATION = [punc for punc in string.punctuation]\n",
    "PUNCTUATION += [\"›\", \"__\", \"’\", \"‘\", \"...\", \"„\", \"¦\"]"
   ]
  },
  {
   "cell_type": "code",
   "execution_count": 7,
   "metadata": {},
   "outputs": [],
   "source": [
    "# remove punctuation and lower \n",
    "cleaned_text = articles[\"Text\"].apply(lambda article: article.translate(str.maketrans('', '', string.punctuation)).lower())"
   ]
  },
  {
   "cell_type": "code",
   "execution_count": 8,
   "metadata": {},
   "outputs": [],
   "source": [
    "def tokenize_list_articles(list_articles):\n",
    "    \"\"\" tokenize iterable object and remove some pre-defined values \"\"\"\n",
    "    tokenized_articles = [word_tokenize(article) for article in list_articles]\n",
    "    tokenized_articles = [[token.lower() for token in article \n",
    "                           if not (token.lower() in STOP_FR+PUNCTUATION\n",
    "                           or token.isnumeric()\n",
    "                           or len(token) < 3)\n",
    "                          ]\n",
    "                         for article in tokenized_articles]\n",
    "    return tokenized_articles"
   ]
  },
  {
   "cell_type": "code",
   "execution_count": 9,
   "metadata": {},
   "outputs": [
    {
     "name": "stdout",
     "output_type": "stream",
     "text": [
      "CPU times: user 52.3 s, sys: 573 ms, total: 52.9 s\n",
      "Wall time: 52.9 s\n"
     ]
    }
   ],
   "source": [
    "%%time \n",
    "texts_articles = list(articles[\"Text\"].values)\n",
    "tokenized_articles = tokenize_list_articles(list(cleaned_text))\n",
    "# add a column in the DF:\n",
    "articles[\"tokens\"] = tokenized_articles"
   ]
  },
  {
   "cell_type": "markdown",
   "metadata": {},
   "source": [
    "# LDA"
   ]
  },
  {
   "cell_type": "code",
   "execution_count": 19,
   "metadata": {},
   "outputs": [],
   "source": [
    "def assess_lda(list_ntopics\n",
    "               , tokenized_texts\n",
    "               , nmin = 5\n",
    "               , nmax = 0.9\n",
    "               , random_state = 42\n",
    "               , passes = 10\n",
    "               , alpha = 0.01\n",
    "               , eta = 0.01\n",
    "               , nb_it = 500\n",
    "               , eval_every = None\n",
    "              ):\n",
    "\n",
    "    dictionary_LDA = corpora.Dictionary(tokenized_texts)\n",
    "    dictionary_LDA.filter_extremes(no_below=nmin, no_above=nmax)\n",
    "\n",
    "    corpus = [dictionary_LDA.doc2bow(article) for article in tokenized_texts]\n",
    "    model_tfidf = models.TfidfModel(corpus)\n",
    "    corpus_tfidf = model_tfidf[corpus]\n",
    "    \n",
    "    C_vs = np.zeros(len(list_ntopics))\n",
    "    C_umasss = np.zeros(len(list_ntopics))\n",
    "\n",
    "    multi_n_topics=list(itertools.chain(*[[n]*n for n in list_ntopics]))\n",
    "    topic_id=list(itertools.chain(*[list(np.arange(n)) for n in list_ntopics]))\n",
    "    lda_df = pd.DataFrame(index=[multi_n_topics, topic_id])\n",
    "    lda_df[\"top_words\"] = ['']*len(lda_df)\n",
    "\n",
    "    for i, n_topics in tqdm(enumerate(list_ntopics)):\n",
    "        curr_lda_model = models.LdaModel(corpus_tfidf\n",
    "                                         , num_topics=n_topics\n",
    "                                         , id2word=dictionary_LDA\n",
    "                                         , passes=passes\n",
    "                                         , alpha=[alpha]*n_topics\n",
    "                                         , eta=[eta]*len(dictionary_LDA.keys())\n",
    "                                         , eval_every=eval_every\n",
    "                                         , random_state=random_state\n",
    "                                        )\n",
    "        \n",
    "        for j,topic in curr_lda_model.show_topics(formatted=True, num_topics=n_topics, num_words=25):\n",
    "            lda_df.loc[n_topics,j][\"top_words\"]=topic\n",
    "\n",
    "        C_vs[i] = CoherenceModel(model=curr_lda_model\n",
    "                                 , texts=tokenized_texts\n",
    "                                 , dictionary=dictionary_LDA\n",
    "                                 , coherence='c_v'\n",
    "                                ).get_coherence()\n",
    "\n",
    "        C_umasss[i] = CoherenceModel(model=curr_lda_model\n",
    "                                     , corpus=corpus_tfidf\n",
    "                                     , coherence='u_mass'\n",
    "                                    ).get_coherence()\n",
    "        \n",
    "    return lda_df, C_vs, C_umasss"
   ]
  },
  {
   "cell_type": "code",
   "execution_count": 20,
   "metadata": {},
   "outputs": [],
   "source": [
    "def plot_cv_cumass(ntopics, cvs, cumasss):\n",
    "    # create figure and axis objects with subplots()\n",
    "    fig,ax = plt.subplots(figsize=(10,7))\n",
    "    # make a plot\n",
    "    ax.plot(ntopics, cvs, color=\"red\", marker=\"o\")\n",
    "    # set x-axis label\n",
    "    ax.set_xlabel(\"Number of topics\",fontsize=14)\n",
    "    # set y-axis label\n",
    "    ax.set_ylabel(r\"$C_v$\",color=\"red\",fontsize=14)\n",
    "    # twin object for two different y-axis on the sample plot\n",
    "    ax2=ax.twinx()\n",
    "    # make a plot with different y-axis using second axis object\n",
    "    ax2.plot(ntopics, cumasss,color=\"blue\",marker=\"o\")\n",
    "    ax2.set_ylabel(r\"$C_{umass}$\",color=\"blue\",fontsize=14)\n",
    "    plt.show()"
   ]
  },
  {
   "cell_type": "code",
   "execution_count": 21,
   "metadata": {},
   "outputs": [
    {
     "name": "stderr",
     "output_type": "stream",
     "text": [
      "23it [1:21:34, 212.79s/it]\n"
     ]
    }
   ],
   "source": [
    "N_min = 5\n",
    "perc_max = 0.9\n",
    "\n",
    "N_topics = np.arange(5,50,2, dtype=int)\n",
    "\n",
    "lda_df, C_vs, C_umasss = assess_lda(list_ntopics = N_topics\n",
    "                                    , tokenized_texts = tokenized_articles\n",
    "                                    , nmin = N_min\n",
    "                                    , nmax = perc_max\n",
    "                                    , random_state = 42\n",
    "                                    , passes = 10\n",
    "                                    , alpha = 0.01\n",
    "                                    , eta = 0.01\n",
    "                                    , nb_it = 500\n",
    "                                    , eval_every = None\n",
    "                                   )"
   ]
  },
  {
   "cell_type": "code",
   "execution_count": 23,
   "metadata": {},
   "outputs": [
    {
     "data": {
      "image/png": "[encoded data removed]",
      "text/plain": [
       "<Figure size 720x504 with 2 Axes>"
      ]
     },
     "metadata": {
      "needs_background": "light"
     },
     "output_type": "display_data"
    }
   ],
   "source": [
    "plot_cv_cumass(N_topics, C_vs, C_umasss)"
   ]
  },
  {
   "cell_type": "code",
   "execution_count": 32,
   "metadata": {},
   "outputs": [],
   "source": [
    "lda_df.to_csv(\"lda_5_50_2_5_09.csv\")"
   ]
  },
  {
   "cell_type": "code",
   "execution_count": 31,
   "metadata": {},
   "outputs": [
    {
     "data": {
      "text/html": [
       "<div>\n",
       "<style scoped>\n",
       "    .dataframe tbody tr th:only-of-type {\n",
       "        vertical-align: middle;\n",
       "    }\n",
       "\n",
       "    .dataframe tbody tr th {\n",
       "        vertical-align: top;\n",
       "    }\n",
       "\n",
       "    .dataframe thead th {\n",
       "        text-align: right;\n",
       "    }\n",
       "</style>\n",
       "<table border=\"1\" class=\"dataframe\">\n",
       "  <thead>\n",
       "    <tr style=\"text-align: right;\">\n",
       "      <th></th>\n",
       "      <th>top_words</th>\n",
       "    </tr>\n",
       "  </thead>\n",
       "  <tbody>\n",
       "    <tr>\n",
       "      <th>0</th>\n",
       "      <td>0.020*\"canons\" + 0.019*\"neige\" + 0.014*\"remontées\" + 0.013*\"télésiège\" + 0.012*\"mécaniques\" + 0.011*\"enneigement\" + 0.011*\"grimentz\" + 0.010*\"diablerets\" + 0.009*\"cabane\" + 0.007*\"chalets\" + 0.007*\"skieurs\" + 0.007*\"artificiel\" + 0.007*\"chamonix\" + 0.006*\"saintluc\" + 0.006*\"vercorin\" + 0.006*\"zinal\" + 0.006*\"week\" + 0.006*\"station\" + 0.006*\"cheyres\" + 0.005*\"glacier\" + 0.005*\"téléverbier\" + 0.005*\"aoste\" + 0.005*\"cadehl\" + 0.005*\"brélaz\" + 0.005*\"anniviers\"</td>\n",
       "    </tr>\n",
       "    <tr>\n",
       "      <th>1</th>\n",
       "      <td>0.029*\"nlfa\" + 0.018*\"sociauxdémocrates\" + 0.015*\"rplp\" + 0.014*\"eveline\" + 0.012*\"widmerschlumpf\" + 0.010*\"bilatérales\" + 0.009*\"iris\" + 0.008*\"suède\" + 0.008*\"hockey\" + 0.007*\"fûts\" + 0.007*\"grisonne\" + 0.007*\"haury\" + 0.006*\"campagnols\" + 0.006*\"jacquesandré\" + 0.005*\"lake\" + 0.005*\"tél\" + 0.005*\"city\" + 0.005*\"navire\" + 0.005*\"garage\" + 0.005*\"kenya\" + 0.005*\"park\" + 0.005*\"adg\" + 0.004*\"vainqueurs\" + 0.004*\"lpp\" + 0.004*\"clavien\"</td>\n",
       "    </tr>\n",
       "    <tr>\n",
       "      <th>2</th>\n",
       "      <td>0.007*\"parti\" + 0.007*\"conseil\" + 0.005*\"gauche\" + 0.004*\"national\" + 0.004*\"voix\" + 0.004*\"droite\" + 0.004*\"partis\" + 0.004*\"socialistes\" + 0.004*\"verts\" + 0.004*\"socialiste\" + 0.004*\"sièges\" + 0.004*\"linitiative\" + 0.004*\"majorité\" + 0.003*\"élections\" + 0.003*\"pdc\" + 0.003*\"radicaux\" + 0.003*\"parlement\" + 0.003*\"etats\" + 0.003*\"initiative\" + 0.003*\"detat\" + 0.003*\"fédéral\" + 0.003*\"candidats\" + 0.003*\"gouvernement\" + 0.003*\"libéraux\" + 0.003*\"peuple\"</td>\n",
       "    </tr>\n",
       "    <tr>\n",
       "      <th>3</th>\n",
       "      <td>0.006*\"coalition\" + 0.005*\"cdu\" + 0.005*\"chirac\" + 0.004*\"pes\" + 0.004*\"municipales\" + 0.003*\"eos\" + 0.003*\"strauss\" + 0.003*\"hydrorhône\" + 0.003*\"jospin\" + 0.003*\"réacteur\" + 0.003*\"motion\" + 0.003*\"blocher\" + 0.003*\"gerhard\" + 0.003*\"rocard\" + 0.002*\"crime\" + 0.002*\"bâleville\" + 0.002*\"électriciens\" + 0.002*\"réélu\" + 0.002*\"galmiz\" + 0.002*\"kosovo\" + 0.002*\"francophones\" + 0.002*\"lat\" + 0.002*\"fusion\" + 0.002*\"laccord\" + 0.002*\"csu\"</td>\n",
       "    </tr>\n",
       "    <tr>\n",
       "      <th>4</th>\n",
       "      <td>0.023*\"rothenthurm\" + 0.011*\"denner\" + 0.011*\"fsc\" + 0.009*\"darmes\" + 0.008*\"dmf\" + 0.007*\"transgénique\" + 0.007*\"plutonium\" + 0.006*\"ulm\" + 0.006*\"last\" + 0.005*\"hubacher\" + 0.005*\"transgéniques\" + 0.005*\"soja\" + 0.005*\"cherbourg\" + 0.005*\"monsanto\" + 0.005*\"sri\" + 0.004*\"maru\" + 0.004*\"langenberger\" + 0.004*\"brest\" + 0.004*\"neuchlenanschwilen\" + 0.004*\"profitez\" + 0.004*\"pnr\" + 0.004*\"badewurtemberg\" + 0.004*\"forest\" + 0.003*\"lirak\" + 0.003*\"leasing\"</td>\n",
       "    </tr>\n",
       "    <tr>\n",
       "      <th>5</th>\n",
       "      <td>0.059*\"golf\" + 0.019*\"grimisuat\" + 0.011*\"jeûne\" + 0.009*\"tsamarau\" + 0.007*\"plongeurs\" + 0.007*\"défrichement\" + 0.006*\"anzère\" + 0.006*\"toxicomanes\" + 0.006*\"roumains\" + 0.005*\"pneus\" + 0.005*\"chanvre\" + 0.004*\"conseu\" + 0.004*\"fee\" + 0.004*\"serbie\" + 0.004*\"vogel\" + 0.004*\"rallye\" + 0.004*\"milosevic\" + 0.003*\"unesco\" + 0.003*\"petitduc\" + 0.003*\"gottlieb\" + 0.003*\"toyota\" + 0.002*\"gwh\" + 0.002*\"treyvaux\" + 0.002*\"piccard\" + 0.002*\"coca\"</td>\n",
       "    </tr>\n",
       "    <tr>\n",
       "      <th>6</th>\n",
       "      <td>0.023*\"nostra\" + 0.022*\"giscard\" + 0.018*\"aqua\" + 0.016*\"destaing\" + 0.015*\"motocross\" + 0.010*\"honda\" + 0.010*\"pef\" + 0.008*\"félix\" + 0.008*\"pétrolier\" + 0.007*\"daqua\" + 0.007*\"motards\" + 0.007*\"roggo\" + 0.007*\"francfort\" + 0.006*\"troislacs\" + 0.005*\"pétroliers\" + 0.005*\"fioul\" + 0.005*\"hybride\" + 0.005*\"die\" + 0.005*\"psv\" + 0.005*\"chappaz\" + 0.004*\"volvo\" + 0.004*\"boff\" + 0.004*\"leonardo\" + 0.004*\"réparation\" + 0.004*\"valdez\"</td>\n",
       "    </tr>\n",
       "    <tr>\n",
       "      <th>7</th>\n",
       "      <td>0.003*\"cio\" + 0.003*\"jeux\" + 0.003*\"olympique\" + 0.003*\"rad\" + 0.003*\"locataires\" + 0.003*\"olympiques\" + 0.002*\"cleusondixence\" + 0.002*\"coalition\" + 0.002*\"salquenen\" + 0.002*\"pacifistes\" + 0.002*\"rudolf\" + 0.002*\"fasel\" + 0.002*\"manche\" + 0.002*\"affirment\" + 0.002*\"larrêté\" + 0.002*\"kaspar\" + 0.002*\"lyon\" + 0.002*\"contribuables\" + 0.002*\"exclu\" + 0.002*\"barras\" + 0.002*\"critiqué\" + 0.002*\"épreuves\" + 0.002*\"victime\" + 0.002*\"radicales\" + 0.002*\"maintient\"</td>\n",
       "    </tr>\n",
       "    <tr>\n",
       "      <th>8</th>\n",
       "      <td>0.003*\"motion\" + 0.002*\"villiger\" + 0.002*\"leglise\" + 0.002*\"dmf\" + 0.002*\"journal\" + 0.002*\"saint\" + 0.002*\"ong\" + 0.002*\"blocher\" + 0.002*\"mur\" + 0.002*\"députation\" + 0.002*\"variantes\" + 0.002*\"furgler\" + 0.002*\"euro\" + 0.002*\"abstentions\" + 0.002*\"gypaète\" + 0.002*\"gpe\" + 0.002*\"conservateur\" + 0.002*\"phosphates\" + 0.002*\"frey\" + 0.002*\"secret\" + 0.002*\"sénateurs\" + 0.002*\"jds\" + 0.001*\"magistrat\" + 0.001*\"plénum\" + 0.001*\"bonus\"</td>\n",
       "    </tr>\n",
       "    <tr>\n",
       "      <th>9</th>\n",
       "      <td>0.002*\"suisse\" + 0.001*\"projet\" + 0.001*\"plus\" + 0.001*\"cette\" + 0.001*\"bien\" + 0.001*\"millions\" + 0.001*\"fait\" + 0.001*\"ans\" + 0.001*\"pays\" + 0.001*\"être\" + 0.001*\"francs\" + 0.001*\"faire\" + 0.001*\"entre\" + 0.001*\"nucléaire\" + 0.001*\"encore\" + 0.001*\"valais\" + 0.001*\"moins\" + 0.001*\"tous\" + 0.001*\"leurs\" + 0.001*\"deux\" + 0.001*\"protection\" + 0.001*\"quil\" + 0.001*\"depuis\" + 0.001*\"déjà\" + 0.001*\"dont\"</td>\n",
       "    </tr>\n",
       "    <tr>\n",
       "      <th>10</th>\n",
       "      <td>0.017*\"championnats\" + 0.015*\"navettes\" + 0.013*\"orgamol\" + 0.013*\"egli\" + 0.009*\"alphons\" + 0.006*\"abeilles\" + 0.004*\"usagés\" + 0.004*\"renards\" + 0.004*\"mcdonald\" + 0.003*\"boue\" + 0.003*\"locarno\" + 0.003*\"alsace\" + 0.003*\"media\" + 0.003*\"halle\" + 0.003*\"clavier\" + 0.003*\"suzuki\" + 0.002*\"mcdonalds\" + 0.002*\"helvetia\" + 0.002*\"textiles\" + 0.002*\"shopping\" + 0.002*\"concernée\" + 0.002*\"wenger\" + 0.002*\"zap\" + 0.002*\"sogaval\" + 0.001*\"seba\"</td>\n",
       "    </tr>\n",
       "  </tbody>\n",
       "</table>\n",
       "</div>"
      ],
      "text/plain": [
       "                                                                                                                                                                                                                                                                                                                                                                                                                                                                        top_words\n",
       "0   0.020*\"canons\" + 0.019*\"neige\" + 0.014*\"remontées\" + 0.013*\"télésiège\" + 0.012*\"mécaniques\" + 0.011*\"enneigement\" + 0.011*\"grimentz\" + 0.010*\"diablerets\" + 0.009*\"cabane\" + 0.007*\"chalets\" + 0.007*\"skieurs\" + 0.007*\"artificiel\" + 0.007*\"chamonix\" + 0.006*\"saintluc\" + 0.006*\"vercorin\" + 0.006*\"zinal\" + 0.006*\"week\" + 0.006*\"station\" + 0.006*\"cheyres\" + 0.005*\"glacier\" + 0.005*\"téléverbier\" + 0.005*\"aoste\" + 0.005*\"cadehl\" + 0.005*\"brélaz\" + 0.005*\"anniviers\"\n",
       "1                          0.029*\"nlfa\" + 0.018*\"sociauxdémocrates\" + 0.015*\"rplp\" + 0.014*\"eveline\" + 0.012*\"widmerschlumpf\" + 0.010*\"bilatérales\" + 0.009*\"iris\" + 0.008*\"suède\" + 0.008*\"hockey\" + 0.007*\"fûts\" + 0.007*\"grisonne\" + 0.007*\"haury\" + 0.006*\"campagnols\" + 0.006*\"jacquesandré\" + 0.005*\"lake\" + 0.005*\"tél\" + 0.005*\"city\" + 0.005*\"navire\" + 0.005*\"garage\" + 0.005*\"kenya\" + 0.005*\"park\" + 0.005*\"adg\" + 0.004*\"vainqueurs\" + 0.004*\"lpp\" + 0.004*\"clavien\"\n",
       "2        0.007*\"parti\" + 0.007*\"conseil\" + 0.005*\"gauche\" + 0.004*\"national\" + 0.004*\"voix\" + 0.004*\"droite\" + 0.004*\"partis\" + 0.004*\"socialistes\" + 0.004*\"verts\" + 0.004*\"socialiste\" + 0.004*\"sièges\" + 0.004*\"linitiative\" + 0.004*\"majorité\" + 0.003*\"élections\" + 0.003*\"pdc\" + 0.003*\"radicaux\" + 0.003*\"parlement\" + 0.003*\"etats\" + 0.003*\"initiative\" + 0.003*\"detat\" + 0.003*\"fédéral\" + 0.003*\"candidats\" + 0.003*\"gouvernement\" + 0.003*\"libéraux\" + 0.003*\"peuple\"\n",
       "3                          0.006*\"coalition\" + 0.005*\"cdu\" + 0.005*\"chirac\" + 0.004*\"pes\" + 0.004*\"municipales\" + 0.003*\"eos\" + 0.003*\"strauss\" + 0.003*\"hydrorhône\" + 0.003*\"jospin\" + 0.003*\"réacteur\" + 0.003*\"motion\" + 0.003*\"blocher\" + 0.003*\"gerhard\" + 0.003*\"rocard\" + 0.002*\"crime\" + 0.002*\"bâleville\" + 0.002*\"électriciens\" + 0.002*\"réélu\" + 0.002*\"galmiz\" + 0.002*\"kosovo\" + 0.002*\"francophones\" + 0.002*\"lat\" + 0.002*\"fusion\" + 0.002*\"laccord\" + 0.002*\"csu\"\n",
       "4        0.023*\"rothenthurm\" + 0.011*\"denner\" + 0.011*\"fsc\" + 0.009*\"darmes\" + 0.008*\"dmf\" + 0.007*\"transgénique\" + 0.007*\"plutonium\" + 0.006*\"ulm\" + 0.006*\"last\" + 0.005*\"hubacher\" + 0.005*\"transgéniques\" + 0.005*\"soja\" + 0.005*\"cherbourg\" + 0.005*\"monsanto\" + 0.005*\"sri\" + 0.004*\"maru\" + 0.004*\"langenberger\" + 0.004*\"brest\" + 0.004*\"neuchlenanschwilen\" + 0.004*\"profitez\" + 0.004*\"pnr\" + 0.004*\"badewurtemberg\" + 0.004*\"forest\" + 0.003*\"lirak\" + 0.003*\"leasing\"\n",
       "5                       0.059*\"golf\" + 0.019*\"grimisuat\" + 0.011*\"jeûne\" + 0.009*\"tsamarau\" + 0.007*\"plongeurs\" + 0.007*\"défrichement\" + 0.006*\"anzère\" + 0.006*\"toxicomanes\" + 0.006*\"roumains\" + 0.005*\"pneus\" + 0.005*\"chanvre\" + 0.004*\"conseu\" + 0.004*\"fee\" + 0.004*\"serbie\" + 0.004*\"vogel\" + 0.004*\"rallye\" + 0.004*\"milosevic\" + 0.003*\"unesco\" + 0.003*\"petitduc\" + 0.003*\"gottlieb\" + 0.003*\"toyota\" + 0.002*\"gwh\" + 0.002*\"treyvaux\" + 0.002*\"piccard\" + 0.002*\"coca\"\n",
       "6                                 0.023*\"nostra\" + 0.022*\"giscard\" + 0.018*\"aqua\" + 0.016*\"destaing\" + 0.015*\"motocross\" + 0.010*\"honda\" + 0.010*\"pef\" + 0.008*\"félix\" + 0.008*\"pétrolier\" + 0.007*\"daqua\" + 0.007*\"motards\" + 0.007*\"roggo\" + 0.007*\"francfort\" + 0.006*\"troislacs\" + 0.005*\"pétroliers\" + 0.005*\"fioul\" + 0.005*\"hybride\" + 0.005*\"die\" + 0.005*\"psv\" + 0.005*\"chappaz\" + 0.004*\"volvo\" + 0.004*\"boff\" + 0.004*\"leonardo\" + 0.004*\"réparation\" + 0.004*\"valdez\"\n",
       "7   0.003*\"cio\" + 0.003*\"jeux\" + 0.003*\"olympique\" + 0.003*\"rad\" + 0.003*\"locataires\" + 0.003*\"olympiques\" + 0.002*\"cleusondixence\" + 0.002*\"coalition\" + 0.002*\"salquenen\" + 0.002*\"pacifistes\" + 0.002*\"rudolf\" + 0.002*\"fasel\" + 0.002*\"manche\" + 0.002*\"affirment\" + 0.002*\"larrêté\" + 0.002*\"kaspar\" + 0.002*\"lyon\" + 0.002*\"contribuables\" + 0.002*\"exclu\" + 0.002*\"barras\" + 0.002*\"critiqué\" + 0.002*\"épreuves\" + 0.002*\"victime\" + 0.002*\"radicales\" + 0.002*\"maintient\"\n",
       "8                            0.003*\"motion\" + 0.002*\"villiger\" + 0.002*\"leglise\" + 0.002*\"dmf\" + 0.002*\"journal\" + 0.002*\"saint\" + 0.002*\"ong\" + 0.002*\"blocher\" + 0.002*\"mur\" + 0.002*\"députation\" + 0.002*\"variantes\" + 0.002*\"furgler\" + 0.002*\"euro\" + 0.002*\"abstentions\" + 0.002*\"gypaète\" + 0.002*\"gpe\" + 0.002*\"conservateur\" + 0.002*\"phosphates\" + 0.002*\"frey\" + 0.002*\"secret\" + 0.002*\"sénateurs\" + 0.002*\"jds\" + 0.001*\"magistrat\" + 0.001*\"plénum\" + 0.001*\"bonus\"\n",
       "9                                                             0.002*\"suisse\" + 0.001*\"projet\" + 0.001*\"plus\" + 0.001*\"cette\" + 0.001*\"bien\" + 0.001*\"millions\" + 0.001*\"fait\" + 0.001*\"ans\" + 0.001*\"pays\" + 0.001*\"être\" + 0.001*\"francs\" + 0.001*\"faire\" + 0.001*\"entre\" + 0.001*\"nucléaire\" + 0.001*\"encore\" + 0.001*\"valais\" + 0.001*\"moins\" + 0.001*\"tous\" + 0.001*\"leurs\" + 0.001*\"deux\" + 0.001*\"protection\" + 0.001*\"quil\" + 0.001*\"depuis\" + 0.001*\"déjà\" + 0.001*\"dont\"\n",
       "10                      0.017*\"championnats\" + 0.015*\"navettes\" + 0.013*\"orgamol\" + 0.013*\"egli\" + 0.009*\"alphons\" + 0.006*\"abeilles\" + 0.004*\"usagés\" + 0.004*\"renards\" + 0.004*\"mcdonald\" + 0.003*\"boue\" + 0.003*\"locarno\" + 0.003*\"alsace\" + 0.003*\"media\" + 0.003*\"halle\" + 0.003*\"clavier\" + 0.003*\"suzuki\" + 0.002*\"mcdonalds\" + 0.002*\"helvetia\" + 0.002*\"textiles\" + 0.002*\"shopping\" + 0.002*\"concernée\" + 0.002*\"wenger\" + 0.002*\"zap\" + 0.002*\"sogaval\" + 0.001*\"seba\""
      ]
     },
     "metadata": {},
     "output_type": "display_data"
    }
   ],
   "source": [
    "with pd.option_context('display.max_colwidth', None):\n",
    "    display(lda_df.loc[11])"
   ]
  },
  {
   "cell_type": "code",
   "execution_count": 34,
   "metadata": {},
   "outputs": [],
   "source": [
    "N_min = 5\n",
    "perc_max = 0.9\n",
    "\n",
    "dictionary_LDA = corpora.Dictionary(tokenized_articles)\n",
    "dictionary_LDA.filter_extremes(no_below=N_min, no_above=perc_max)\n",
    "\n",
    "corpus = [dictionary_LDA.doc2bow(article) for article in tokenized_articles]"
   ]
  },
  {
   "cell_type": "code",
   "execution_count": 35,
   "metadata": {},
   "outputs": [
    {
     "name": "stdout",
     "output_type": "stream",
     "text": [
      "CPU times: user 34.6 s, sys: 155 ms, total: 34.7 s\n",
      "Wall time: 34.7 s\n",
      "0: 0.013*\"conseil\" + 0.010*\"parti\" + 0.008*\"plus\" + 0.007*\"deux\" + 0.007*\"contre\" + 0.006*\"suisse\" + 0.006*\"fédéral\" + 0.006*\"gauche\" + 0.006*\"politique\" + 0.006*\"national\"\n",
      "\n",
      "1: 0.009*\"projet\" + 0.006*\"cette\" + 0.005*\"plus\" + 0.005*\"valais\" + 0.004*\"canton\" + 0.004*\"deux\" + 0.004*\"écologistes\" + 0.004*\"protection\" + 0.004*\"entre\" + 0.004*\"commune\"\n",
      "\n",
      "2: 0.012*\"plus\" + 0.007*\"bien\" + 0.006*\"cette\" + 0.006*\"fait\" + 0.004*\"faire\" + 0.004*\"tous\" + 0.004*\"ans\" + 0.004*\"monde\" + 0.004*\"quil\" + 0.003*\"écologistes\"\n",
      "\n",
      "3: 0.012*\"plus\" + 0.006*\"nucléaire\" + 0.006*\"suisse\" + 0.005*\"cette\" + 0.004*\"être\" + 0.004*\"lénergie\" + 0.004*\"millions\" + 0.004*\"moins\" + 0.003*\"francs\" + 0.003*\"deux\"\n",
      "\n",
      "4: 0.013*\"plus\" + 0.011*\"suisse\" + 0.006*\"pays\" + 0.005*\"cette\" + 0.005*\"être\" + 0.004*\"environnement\" + 0.004*\"protection\" + 0.004*\"produits\" + 0.003*\"agriculture\" + 0.003*\"production\"\n",
      "\n"
     ]
    }
   ],
   "source": [
    "num_opt = 5\n",
    "%time lda_model = models.LdaModel(corpus, num_topics=num_opt, \\\n",
    "                                  id2word=dictionary_LDA, \\\n",
    "                                  passes=4, alpha=[0.01]*num_opt, \\\n",
    "                                  eta=[0.01]*len(dictionary_LDA.keys()))\n",
    "\n",
    "for i,topic in lda_model.show_topics(formatted=True, num_topics=num_opt, num_words=10):\n",
    "    print(str(i)+\": \"+ topic)\n",
    "    print()"
   ]
  },
  {
   "cell_type": "code",
   "execution_count": 100,
   "metadata": {},
   "outputs": [
    {
     "data": {
      "text/html": [
       "<div>\n",
       "<style scoped>\n",
       "    .dataframe tbody tr th:only-of-type {\n",
       "        vertical-align: middle;\n",
       "    }\n",
       "\n",
       "    .dataframe tbody tr th {\n",
       "        vertical-align: top;\n",
       "    }\n",
       "\n",
       "    .dataframe thead th {\n",
       "        text-align: right;\n",
       "    }\n",
       "</style>\n",
       "<table border=\"1\" class=\"dataframe\">\n",
       "  <thead>\n",
       "    <tr style=\"text-align: right;\">\n",
       "      <th></th>\n",
       "      <th></th>\n",
       "      <th>top_words</th>\n",
       "    </tr>\n",
       "  </thead>\n",
       "  <tbody>\n",
       "    <tr>\n",
       "      <th rowspan=\"3\" valign=\"top\">3</th>\n",
       "      <th>0</th>\n",
       "      <td></td>\n",
       "    </tr>\n",
       "    <tr>\n",
       "      <th>1</th>\n",
       "      <td></td>\n",
       "    </tr>\n",
       "    <tr>\n",
       "      <th>2</th>\n",
       "      <td></td>\n",
       "    </tr>\n",
       "    <tr>\n",
       "      <th rowspan=\"2\" valign=\"top\">4</th>\n",
       "      <th>0</th>\n",
       "      <td></td>\n",
       "    </tr>\n",
       "    <tr>\n",
       "      <th>1</th>\n",
       "      <td></td>\n",
       "    </tr>\n",
       "    <tr>\n",
       "      <th>...</th>\n",
       "      <th>...</th>\n",
       "      <td>...</td>\n",
       "    </tr>\n",
       "    <tr>\n",
       "      <th rowspan=\"5\" valign=\"top\">24</th>\n",
       "      <th>19</th>\n",
       "      <td></td>\n",
       "    </tr>\n",
       "    <tr>\n",
       "      <th>20</th>\n",
       "      <td></td>\n",
       "    </tr>\n",
       "    <tr>\n",
       "      <th>21</th>\n",
       "      <td></td>\n",
       "    </tr>\n",
       "    <tr>\n",
       "      <th>22</th>\n",
       "      <td></td>\n",
       "    </tr>\n",
       "    <tr>\n",
       "      <th>23</th>\n",
       "      <td></td>\n",
       "    </tr>\n",
       "  </tbody>\n",
       "</table>\n",
       "<p>297 rows × 1 columns</p>\n",
       "</div>"
      ],
      "text/plain": [
       "      top_words\n",
       "3  0           \n",
       "   1           \n",
       "   2           \n",
       "4  0           \n",
       "   1           \n",
       "...         ...\n",
       "24 19          \n",
       "   20          \n",
       "   21          \n",
       "   22          \n",
       "   23          \n",
       "\n",
       "[297 rows x 1 columns]"
      ]
     },
     "execution_count": 100,
     "metadata": {},
     "output_type": "execute_result"
    }
   ],
   "source": [
    "nums_topics = np.arange(3,25,1)\n",
    "C_vs = np.zeros(len(nums_topics))\n",
    "C_umasss = np.zeros(len(nums_topics))\n",
    "\n",
    "multi_n_topics=list(itertools.chain(*[[n]*n for n in nums_topics]))\n",
    "topic_id=list(itertools.chain(*[list(np.arange(n)) for n in nums_topics]))\n",
    "arrays = [multi_n_topics, topic_id]\n",
    "\n",
    "lda_df = pd.DataFrame(index=arrays)\n",
    "lda_df[\"top_words\"] = ['']*len(lda_df)\n",
    "\n",
    "lda_df"
   ]
  },
  {
   "cell_type": "code",
   "execution_count": 101,
   "metadata": {},
   "outputs": [
    {
     "name": "stderr",
     "output_type": "stream",
     "text": [
      "22it [20:35, 56.17s/it]\n"
     ]
    }
   ],
   "source": [
    "for i, n_topics in tqdm(enumerate(nums_topics)):\n",
    "    curr_lda_model = models.LdaModel(corpus\n",
    "                                     , num_topics=n_topics\n",
    "                                     , id2word=dictionary_LDA\n",
    "                                     , passes=4\n",
    "                                     , alpha=[0.01]*n_topics\n",
    "                                     , eta=[0.01]*len(dictionary_LDA.keys())\n",
    "                                    )\n",
    "    \n",
    "    for j,topic in curr_lda_model.show_topics(formatted=True, num_topics=n_topics, num_words=25):\n",
    "        lda_df.loc[i+np.min(nums_topics),j]=topic\n",
    "    \n",
    "    \n",
    "    C_vs[i] = CoherenceModel(model=curr_lda_model\n",
    "                             , texts=tokenized_articles\n",
    "                             , dictionary=dictionary_LDA\n",
    "                             , coherence='c_v'\n",
    "                            ).get_coherence()\n",
    "    \n",
    "    C_umasss[i] = CoherenceModel(model=curr_lda_model\n",
    "                                 , corpus=corpus\n",
    "                                 , coherence='u_mass'\n",
    "                                ).get_coherence()"
   ]
  },
  {
   "cell_type": "code",
   "execution_count": 102,
   "metadata": {},
   "outputs": [
    {
     "data": {
      "image/png": "[encoded data removed]",
      "text/plain": [
       "<Figure size 720x504 with 2 Axes>"
      ]
     },
     "metadata": {
      "needs_background": "light"
     },
     "output_type": "display_data"
    }
   ],
   "source": [
    "# create figure and axis objects with subplots()\n",
    "fig,ax = plt.subplots(figsize=(10,7))\n",
    "# make a plot\n",
    "ax.plot(nums_topics, C_vs, color=\"red\", marker=\"o\")\n",
    "# set x-axis label\n",
    "ax.set_xlabel(\"Number of topics\",fontsize=14)\n",
    "# set y-axis label\n",
    "ax.set_ylabel(r\"$C_v$\",color=\"red\",fontsize=14)\n",
    "# twin object for two different y-axis on the sample plot\n",
    "ax2=ax.twinx()\n",
    "# make a plot with different y-axis using second axis object\n",
    "ax2.plot(nums_topics, C_umasss,color=\"blue\",marker=\"o\")\n",
    "ax2.set_ylabel(r\"$C_{umass}$\",color=\"blue\",fontsize=14)\n",
    "plt.show()"
   ]
  },
  {
   "cell_type": "code",
   "execution_count": null,
   "metadata": {},
   "outputs": [],
   "source": []
  }
 ],
 "metadata": {
  "kernelspec": {
   "display_name": "Python 3",
   "language": "python",
   "name": "python3"
  },
  "language_info": {
   "codemirror_mode": {
    "name": "ipython",
    "version": 3
   },
   "file_extension": ".py",
   "mimetype": "text/x-python",
   "name": "python",
   "nbconvert_exporter": "python",
   "pygments_lexer": "ipython3",
   "version": "3.8.5"
  }
 },
 "nbformat": 4,
 "nbformat_minor": 4
}
