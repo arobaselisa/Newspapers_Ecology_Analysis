{
 "cells": [
  {
   "cell_type": "code",
   "execution_count": 1,
   "metadata": {},
   "outputs": [],
   "source": [
    "import requests\n",
    "from bs4 import BeautifulSoup\n",
    "import pandas as pd\n",
    "from tqdm import tqdm\n",
    "from selenium import webdriver\n",
    "from selenium.webdriver.chrome.options import Options\n",
    "import time"
   ]
  },
  {
   "cell_type": "code",
   "execution_count": 2,
   "metadata": {},
   "outputs": [],
   "source": [
    "DRIVER_PATH = './chromedriver' \n",
    "options = Options()\n",
    "options.add_argument('--headless')"
   ]
  },
  {
   "cell_type": "code",
   "execution_count": 3,
   "metadata": {},
   "outputs": [],
   "source": [
    "def find_attributes_from_article(url):\n",
    "    driver = webdriver.Chrome(options=options, executable_path=DRIVER_PATH)\n",
    "    driver.get(url)\n",
    "    # Click on the 'Annuler' button that discards the tutorial\n",
    "    driver.find_element_by_xpath('//button[contains(text(), \"Annuler\")]').click()\n",
    "    # Wait for the text to be fully loaded\n",
    "    time.sleep(2)\n",
    "    # Html of the full page\n",
    "    html = driver.page_source\n",
    "    page_soup = BeautifulSoup(html, 'html.parser')\n",
    "    header = page_soup.find_all(\"title\")[0].text.replace(\"— e-newspaperarchives.ch\", \"\")\n",
    "    date = ' '.join(header.split()[-3:])\n",
    "    journal = ' '.join(header.split()[:-3])\n",
    "    # Find div where the OCRed text is\n",
    "    article = page_soup.find_all(\"div\", {\"id\": \"documentdisplayleftpanesectiontextcontainer\"})\n",
    "    article_soup = BeautifulSoup(str(article[0]), 'html.parser')\n",
    "    # Get the text\n",
    "    t = article_soup.find_all(\"p\")\n",
    "    # Remove html tags\n",
    "    text = \"\"\n",
    "    for p in t:\n",
    "        p = str(p).replace('<p>', ' ').replace('</p>', ' ').replace('<b class=\"highlightcolor\">', ' ').replace('</b>', ' ')\n",
    "        text += p\n",
    "    return text, journal, date"
   ]
  },
  {
   "cell_type": "code",
   "execution_count": 4,
   "metadata": {
    "scrolled": true
   },
   "outputs": [],
   "source": [
    "def scrap_20_article(url_search):\n",
    "    \n",
    "    page = requests.get(url_search)\n",
    "    soup = BeautifulSoup(page.content, 'html.parser')\n",
    "    raw_list = soup.find_all(\"div\", {\"class\": \"vlistentrymaincell\"})\n",
    "    raw_list_soup = BeautifulSoup(str(raw_list), 'html.parser')\n",
    "    links = raw_list_soup.find_all('a', href=True)\n",
    "\n",
    "    rows_list = []\n",
    "    for l in links:\n",
    "            dict1 = {}\n",
    "            title = l.text.replace(\"[ARTICLE]\", \"\").replace('[ARTICLE+ILLUSTRATION]', '')\n",
    "            url = \"https://www.e-newspaperarchives.ch\" + l['href']\n",
    "            text, journal, date = find_attributes_from_article(url)\n",
    "            dict1.update({'Article Title': title, 'Journal': journal, 'Date': date, 'Url': url, 'Text': text}) \n",
    "            rows_list.append(dict1)\n",
    "\n",
    "    article_df = pd.DataFrame(rows_list)     \n",
    "    return article_df"
   ]
  },
  {
   "cell_type": "code",
   "execution_count": 5,
   "metadata": {},
   "outputs": [],
   "source": [
    "def find_all_articles():\n",
    "    complete_df = pd.DataFrame()\n",
    "    for i in tqdm(range(1, 143)): \n",
    "        url_search = \"https://www.e-newspaperarchives.ch/?a=q&r=\"+ str(20*i + 1) +\"&results=1&e=-------fr-20--41--img-txIN-écologie-ARTICLE------0-----\"\n",
    "        twenty_article_df = scrap_20_article(url_search)\n",
    "        complete_df = complete_df.append(twenty_article_df)\n",
    "    return complete_df"
   ]
  },
  {
   "cell_type": "code",
   "execution_count": 6,
   "metadata": {},
   "outputs": [
    {
     "name": "stderr",
     "output_type": "stream",
     "text": [
      "100%|██████████| 142/142 [4:57:00<00:00, 125.50s/it]  \n"
     ]
    }
   ],
   "source": [
    "complete_df = find_all_articles()"
   ]
  },
  {
   "cell_type": "code",
   "execution_count": 7,
   "metadata": {},
   "outputs": [],
   "source": [
    "complete_df.to_csv('articles.csv')"
   ]
  },
  {
   "cell_type": "code",
   "execution_count": 8,
   "metadata": {},
   "outputs": [
    {
     "data": {
      "text/plain": [
       "2810"
      ]
     },
     "execution_count": 8,
     "metadata": {},
     "output_type": "execute_result"
    }
   ],
   "source": [
    "len(complete_df.index)"
   ]
  },
  {
   "cell_type": "code",
   "execution_count": 14,
   "metadata": {},
   "outputs": [
    {
     "data": {
      "text/html": [
       "<div>\n",
       "<style scoped>\n",
       "    .dataframe tbody tr th:only-of-type {\n",
       "        vertical-align: middle;\n",
       "    }\n",
       "\n",
       "    .dataframe tbody tr th {\n",
       "        vertical-align: top;\n",
       "    }\n",
       "\n",
       "    .dataframe thead th {\n",
       "        text-align: right;\n",
       "    }\n",
       "</style>\n",
       "<table border=\"1\" class=\"dataframe\">\n",
       "  <thead>\n",
       "    <tr style=\"text-align: right;\">\n",
       "      <th></th>\n",
       "      <th>Article Title</th>\n",
       "      <th>Journal</th>\n",
       "      <th>Date</th>\n",
       "      <th>Url</th>\n",
       "      <th>Text</th>\n",
       "    </tr>\n",
       "  </thead>\n",
       "  <tbody>\n",
       "    <tr>\n",
       "      <th>13</th>\n",
       "      <td>Agriculture et environnement à la fois s...</td>\n",
       "      <td>La Gazette</td>\n",
       "      <td>14 février 1985</td>\n",
       "      <td>https://www.e-newspaperarchives.ch/?a=d&amp;d=GDM1...</td>\n",
       "      <td>Agriculture et environnement à la fois source...</td>\n",
       "    </tr>\n",
       "    <tr>\n",
       "      <th>12</th>\n",
       "      <td>COMMENT REAGIR? : LA BERCE, L'AMBROISIE ...</td>\n",
       "      <td>Le Nouvelliste</td>\n",
       "      <td>11 juin 2005</td>\n",
       "      <td>https://www.e-newspaperarchives.ch/?a=d&amp;d=NVE2...</td>\n",
       "      <td>COMMENT REAGIR ? : LA BERCE , LAMBROISIE ET L...</td>\n",
       "    </tr>\n",
       "    <tr>\n",
       "      <th>9</th>\n",
       "      <td>Trochulus piccardi, un nouvel escargot d...</td>\n",
       "      <td>La Liberté</td>\n",
       "      <td>18 avril 2006</td>\n",
       "      <td>https://www.e-newspaperarchives.ch/?a=d&amp;d=LLE2...</td>\n",
       "      <td>Trochulus piccardi , un nouvel escargot décou...</td>\n",
       "    </tr>\n",
       "    <tr>\n",
       "      <th>13</th>\n",
       "      <td>«Quelle place la société fait-elle aux j...</td>\n",
       "      <td>La Liberté</td>\n",
       "      <td>7 mars 1983</td>\n",
       "      <td>https://www.e-newspaperarchives.ch/?a=d&amp;d=LLE1...</td>\n",
       "      <td>« Quelle place la société fait-elle aux jeune...</td>\n",
       "    </tr>\n",
       "    <tr>\n",
       "      <th>14</th>\n",
       "      <td>unis</td>\n",
       "      <td>Le Peuple valaisan</td>\n",
       "      <td>6 mai 2005</td>\n",
       "      <td>https://www.e-newspaperarchives.ch/?a=d&amp;d=PEV2...</td>\n",
       "      <td>unis  verts  « L  écologie  , ca ne coûte pas...</td>\n",
       "    </tr>\n",
       "    <tr>\n",
       "      <th>15</th>\n",
       "      <td>L'agriculture et l'élevage suisse poussé...</td>\n",
       "      <td>Le Confédéré</td>\n",
       "      <td>15 février 2008</td>\n",
       "      <td>https://www.e-newspaperarchives.ch/?a=d&amp;d=LCE2...</td>\n",
       "      <td>Lagriculture et lélevage suisse poussé la Sui...</td>\n",
       "    </tr>\n",
       "    <tr>\n",
       "      <th>15</th>\n",
       "      <td>ENTRETIEN Il y a huit heures de barre de...</td>\n",
       "      <td>La Liberté</td>\n",
       "      <td>10 mai 1997</td>\n",
       "      <td>https://www.e-newspaperarchives.ch/?a=d&amp;d=LLE1...</td>\n",
       "      <td>ENTRETIEN Il y a huit heures de barre derrièr...</td>\n",
       "    </tr>\n",
       "    <tr>\n",
       "      <th>7</th>\n",
       "      <td>Un projet signe Monthey et Ciba-Geigy</td>\n",
       "      <td>Le Nouvelliste</td>\n",
       "      <td>29 juin 1988</td>\n",
       "      <td>https://www.e-newspaperarchives.ch/?a=d&amp;d=NVE1...</td>\n",
       "      <td>Un projet signe Monthey et Ciba-Geigy  Motion...</td>\n",
       "    </tr>\n",
       "    <tr>\n",
       "      <th>16</th>\n",
       "      <td>A l'image ¦ i aes récentes</td>\n",
       "      <td>Le Nouvelliste</td>\n",
       "      <td>17 mars 2001</td>\n",
       "      <td>https://www.e-newspaperarchives.ch/?a=d&amp;d=NVE2...</td>\n",
       "      <td>A limage ¦ i aes récentes  f 1 &amp;lt; * Z ^ y &amp;...</td>\n",
       "    </tr>\n",
       "    <tr>\n",
       "      <th>14</th>\n",
       "      <td>VOS LETTRES L'écologie et ses aberration...</td>\n",
       "      <td>La Liberté</td>\n",
       "      <td>4 août 1997</td>\n",
       "      <td>https://www.e-newspaperarchives.ch/?a=d&amp;d=LLE1...</td>\n",
       "      <td>VOS LETTRES Lécologie et ses aberrations  Ce ...</td>\n",
       "    </tr>\n",
       "  </tbody>\n",
       "</table>\n",
       "</div>"
      ],
      "text/plain": [
       "                                   Article Title             Journal  \\\n",
       "13  Agriculture et environnement à la fois s...           La Gazette   \n",
       "12  COMMENT REAGIR? : LA BERCE, L'AMBROISIE ...       Le Nouvelliste   \n",
       "9   Trochulus piccardi, un nouvel escargot d...           La Liberté   \n",
       "13  «Quelle place la société fait-elle aux j...           La Liberté   \n",
       "14                                         unis   Le Peuple valaisan   \n",
       "15  L'agriculture et l'élevage suisse poussé...         Le Confédéré   \n",
       "15  ENTRETIEN Il y a huit heures de barre de...           La Liberté   \n",
       "7         Un projet signe Monthey et Ciba-Geigy       Le Nouvelliste   \n",
       "16                   A l'image ¦ i aes récentes       Le Nouvelliste   \n",
       "14  VOS LETTRES L'écologie et ses aberration...           La Liberté   \n",
       "\n",
       "               Date                                                Url  \\\n",
       "13  14 février 1985  https://www.e-newspaperarchives.ch/?a=d&d=GDM1...   \n",
       "12     11 juin 2005  https://www.e-newspaperarchives.ch/?a=d&d=NVE2...   \n",
       "9     18 avril 2006  https://www.e-newspaperarchives.ch/?a=d&d=LLE2...   \n",
       "13      7 mars 1983  https://www.e-newspaperarchives.ch/?a=d&d=LLE1...   \n",
       "14       6 mai 2005  https://www.e-newspaperarchives.ch/?a=d&d=PEV2...   \n",
       "15  15 février 2008  https://www.e-newspaperarchives.ch/?a=d&d=LCE2...   \n",
       "15      10 mai 1997  https://www.e-newspaperarchives.ch/?a=d&d=LLE1...   \n",
       "7      29 juin 1988  https://www.e-newspaperarchives.ch/?a=d&d=NVE1...   \n",
       "16     17 mars 2001  https://www.e-newspaperarchives.ch/?a=d&d=NVE2...   \n",
       "14      4 août 1997  https://www.e-newspaperarchives.ch/?a=d&d=LLE1...   \n",
       "\n",
       "                                                 Text  \n",
       "13   Agriculture et environnement à la fois source...  \n",
       "12   COMMENT REAGIR ? : LA BERCE , LAMBROISIE ET L...  \n",
       "9    Trochulus piccardi , un nouvel escargot décou...  \n",
       "13   « Quelle place la société fait-elle aux jeune...  \n",
       "14   unis  verts  « L  écologie  , ca ne coûte pas...  \n",
       "15   Lagriculture et lélevage suisse poussé la Sui...  \n",
       "15   ENTRETIEN Il y a huit heures de barre derrièr...  \n",
       "7    Un projet signe Monthey et Ciba-Geigy  Motion...  \n",
       "16   A limage ¦ i aes récentes  f 1 &lt; * Z ^ y &...  \n",
       "14   VOS LETTRES Lécologie et ses aberrations  Ce ...  "
      ]
     },
     "execution_count": 14,
     "metadata": {},
     "output_type": "execute_result"
    }
   ],
   "source": [
    "complete_df.sample(10)"
   ]
  },
  {
   "cell_type": "code",
   "execution_count": null,
   "metadata": {},
   "outputs": [],
   "source": []
  }
 ],
 "metadata": {
  "kernelspec": {
   "display_name": "Python 3",
   "language": "python",
   "name": "python3"
  },
  "language_info": {
   "codemirror_mode": {
    "name": "ipython",
    "version": 3
   },
   "file_extension": ".py",
   "mimetype": "text/x-python",
   "name": "python",
   "nbconvert_exporter": "python",
   "pygments_lexer": "ipython3",
   "version": "3.8.3"
  }
 },
 "nbformat": 4,
 "nbformat_minor": 4
}
